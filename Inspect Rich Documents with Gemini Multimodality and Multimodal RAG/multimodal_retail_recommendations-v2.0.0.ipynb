{
 "cells": [
  {
   "cell_type": "code",
   "execution_count": 1,
   "metadata": {
    "id": "ijGzTHJJUCPY",
    "tags": []
   },
   "outputs": [],
   "source": [
    "# Copyright 2023 Google LLC\n",
    "#\n",
    "# Licensed under the Apache License, Version 2.0 (the \"License\");\n",
    "# you may not use this file except in compliance with the License.\n",
    "# You may obtain a copy of the License at\n",
    "#\n",
    "#     https://www.apache.org/licenses/LICENSE-2.0\n",
    "#\n",
    "# Unless required by applicable law or agreed to in writing, software\n",
    "# distributed under the License is distributed on an \"AS IS\" BASIS,\n",
    "# WITHOUT WARRANTIES OR CONDITIONS OF ANY KIND, either express or implied.\n",
    "# See the License for the specific language governing permissions and\n",
    "# limitations under the License."
   ]
  },
  {
   "cell_type": "markdown",
   "metadata": {
    "id": "VEqbX8OhE8y9"
   },
   "source": [
    "# Multimodal retail recommendation: Using Gemini to recommend items based on images and image reasoning\n",
    "\n",
    "<table align=\"left\">\n",
    "  <td style=\"text-align: center\">\n",
    "    <a href=\"https://colab.research.google.com/github/GoogleCloudPlatform/generative-ai/blob/main/gemini/use-cases/retail/multimodal_retail_recommendations.ipynb\">\n",
    "      <img src=\"https://cloud.google.com/ml-engine/images/colab-logo-32px.png\" alt=\"Google Colaboratory logo\"><br> Run in Colab\n",
    "    </a>\n",
    "  </td>\n",
    "  <td style=\"text-align: center\">\n",
    "    <a href=\"https://console.cloud.google.com/vertex-ai/colab/import/https:%2F%2Fraw.githubusercontent.com%2FGoogleCloudPlatform%2Fgenerative-ai%2Fmain%2Fgemini%2Fuse-cases%2Fretail%2Fmultimodal_retail_recommendations.ipynb\">\n",
    "      <img width=\"32px\" src=\"https://lh3.googleusercontent.com/JmcxdQi-qOpctIvWKgPtrzZdJJK-J3sWE1RsfjZNwshCFgE_9fULcNpuXYTilIR2hjwN\" alt=\"Google Cloud Colab Enterprise logo\"><br> Run in Colab Enterprise\n",
    "    </a>\n",
    "  </td>\n",
    "  <td style=\"text-align: center\">\n",
    "    <a href=\"https://console.cloud.google.com/vertex-ai/workbench/deploy-notebook?download_url=https://raw.githubusercontent.com/GoogleCloudPlatform/generative-ai/main/gemini/use-cases/retail/multimodal_retail_recommendations.ipynb\">\n",
    "      <img src=\"https://lh3.googleusercontent.com/UiNooY4LUgW_oTvpsNhPpQzsstV5W8F7rYgxgGBD85cWJoLmrOzhVs_ksK_vgx40SHs7jCqkTkCk=e14-rj-sc0xffffff-h130-w32\" alt=\"Vertex AI logo\"><br> Open in Vertex AI Workbench\n",
    "    </a>\n",
    "  </td>\n",
    "  <td style=\"text-align: center\">\n",
    "    <a href=\"https://github.com/GoogleCloudPlatform/generative-ai/blob/main/gemini/use-cases/retail/multimodal_retail_recommendations.ipynb\">\n",
    "      <img src=\"https://cloud.google.com/ml-engine/images/github-logo-32px.png\" alt=\"GitHub logo\"><br> View on GitHub\n",
    "    </a>\n",
    "  </td>\n",
    "  <td style=\"text-align: center\">\n",
    "    <a href=\"https://goo.gle/4fX5Ige\">\n",
    "      <img width=\"32px\" src=\"https://cdn.qwiklabs.com/assets/gcp_cloud-e3a77215f0b8bfa9b3f611c0d2208c7e8708ed31.svg\" alt=\"Google Cloud logo\"><br> Open in  Cloud Skills Boost\n",
    "    </a>\n",
    "  </td>\n",
    "</table>\n",
    "\n",
    "<div style=\"clear: both;\"></div>\n",
    "\n",
    "<b>Share to:</b>\n",
    "\n",
    "<a href=\"https://www.linkedin.com/sharing/share-offsite/?url=https%3A//github.com/GoogleCloudPlatform/generative-ai/blob/main/gemini/use-cases/retail/multimodal_retail_recommendations.ipynb\" target=\"_blank\">\n",
    "  <img width=\"20px\" src=\"https://upload.wikimedia.org/wikipedia/commons/8/81/LinkedIn_icon.svg\" alt=\"LinkedIn logo\">\n",
    "</a>\n",
    "\n",
    "<a href=\"https://bsky.app/intent/compose?text=https%3A//github.com/GoogleCloudPlatform/generative-ai/blob/main/gemini/use-cases/retail/multimodal_retail_recommendations.ipynb\" target=\"_blank\">\n",
    "  <img width=\"20px\" src=\"https://upload.wikimedia.org/wikipedia/commons/7/7a/Bluesky_Logo.svg\" alt=\"Bluesky logo\">\n",
    "</a>\n",
    "\n",
    "<a href=\"https://twitter.com/intent/tweet?url=https%3A//github.com/GoogleCloudPlatform/generative-ai/blob/main/gemini/use-cases/retail/multimodal_retail_recommendations.ipynb\" target=\"_blank\">\n",
    "  <img width=\"20px\" src=\"https://upload.wikimedia.org/wikipedia/commons/5/5a/X_icon_2.svg\" alt=\"X logo\">\n",
    "</a>\n",
    "\n",
    "<a href=\"https://reddit.com/submit?url=https%3A//github.com/GoogleCloudPlatform/generative-ai/blob/main/gemini/use-cases/retail/multimodal_retail_recommendations.ipynb\" target=\"_blank\">\n",
    "  <img width=\"20px\" src=\"https://redditinc.com/hubfs/Reddit%20Inc/Brand/Reddit_Logo.png\" alt=\"Reddit logo\">\n",
    "</a>\n",
    "\n",
    "<a href=\"https://www.facebook.com/sharer/sharer.php?u=https%3A//github.com/GoogleCloudPlatform/generative-ai/blob/main/gemini/use-cases/retail/multimodal_retail_recommendations.ipynb\" target=\"_blank\">\n",
    "  <img width=\"20px\" src=\"https://upload.wikimedia.org/wikipedia/commons/5/51/Facebook_f_logo_%282019%29.svg\" alt=\"Facebook logo\">\n",
    "</a>            \n"
   ]
  },
  {
   "cell_type": "markdown",
   "metadata": {
    "id": "048a84091064"
   },
   "source": [
    "| | |\n",
    "|-|-|\n",
    "|Author(s) | [Thu Ya Kyaw](https://github.com/iamthuya) |"
   ]
  },
  {
   "cell_type": "markdown",
   "metadata": {
    "id": "VK1Q5ZYdVL4Y"
   },
   "source": [
    "## Overview\n",
    "\n",
    "For retail companies, recommendation systems improve customer experience and thus can increase sales.\n",
    "\n",
    "This notebook shows how you can use the multimodal capabilities of Gemini 2.0 model to rapidly create a multimodal recommendation system out-of-the-box."
   ]
  },
  {
   "cell_type": "markdown",
   "metadata": {
    "id": "3zLxCZkKEAhC"
   },
   "source": [
    "## Scenario\n",
    "\n",
    "The customer shows you their living room:\n",
    "\n",
    "|Customer photo |\n",
    "|:-----:|\n",
    "|<img src=\"https://storage.googleapis.com/github-repo/img/gemini/retail-recommendations/rooms/spacejoy-c0JoR_-2x3E-unsplash.jpg\" width=\"80%\">  |\n",
    "\n",
    "\n",
    "\n",
    "Below are four chair options that the customer is trying to decide between:\n",
    "\n",
    "|Chair 1| Chair 2 | Chair 3 | Chair 4 |\n",
    "|:-----:|:----:|:-----:|:----:|\n",
    "| <img src=\"https://storage.googleapis.com/github-repo/img/gemini/retail-recommendations/furnitures/cesar-couto-OB2F6CsMva8-unsplash.jpg\" width=\"80%\">|<img src=\"https://storage.googleapis.com/github-repo/img/gemini/retail-recommendations/furnitures/daniil-silantev-1P6AnKDw6S8-unsplash.jpg\" width=\"80%\">|<img src=\"https://storage.googleapis.com/github-repo/img/gemini/retail-recommendations/furnitures/ruslan-bardash-4kTbAMRAHtQ-unsplash.jpg\" width=\"80%\">|<img src=\"https://storage.googleapis.com/github-repo/img/gemini/retail-recommendations/furnitures/scopic-ltd-NLlWwR4d3qU-unsplash.jpg\" width=\"80%\">|\n",
    "\n",
    "\n",
    "How can you use Gemini, a multimodal model, to help the customer choose the best option, and also explain why?"
   ]
  },
  {
   "cell_type": "markdown",
   "metadata": {
    "id": "RQT500QqVPIb"
   },
   "source": [
    "### Objectives\n",
    "\n",
    "Your main objective is to learn how to create a recommendation system that can provide both recommendations and explanations using a multimodal model: Gemini 2.0.\n",
    "\n",
    "In this notebook, you will begin with a scene (e.g. a living room) and use the Gemini model to perform visual understanding. You will also investigate how the Gemini model can be used to recommend an item (e.g. a chair) from a list of furniture items as input.\n",
    "\n",
    "By going through this notebook, you will learn:\n",
    "- how to use the Gemini model to perform visual understanding\n",
    "- how to take multimodality into consideration in prompting for the Gemini model\n",
    "- how the Gemini model can be used to create retail recommendation applications out-of-the-box"
   ]
  },
  {
   "cell_type": "markdown",
   "metadata": {
    "id": "1y6_3dTwV2fI"
   },
   "source": [
    "### Costs\n",
    "This tutorial uses billable components of Google Cloud:\n",
    "\n",
    "- Vertex AI\n",
    "\n",
    "Learn about [Vertex AI pricing](https://cloud.google.com/vertex-ai/pricing) and use the [Pricing Calculator](https://cloud.google.com/products/calculator/) to generate a cost estimate based on your projected usage."
   ]
  },
  {
   "cell_type": "markdown",
   "metadata": {
    "id": "QDU0XJ1xRDlL"
   },
   "source": [
    "## Getting Started"
   ]
  },
  {
   "cell_type": "markdown",
   "metadata": {
    "id": "N5afkyDMSBW5"
   },
   "source": [
    "### Install Gen AI SDK for Python"
   ]
  },
  {
   "cell_type": "code",
   "execution_count": 2,
   "metadata": {
    "id": "V_-ThW_ZUYRV",
    "tags": []
   },
   "outputs": [
    {
     "name": "stdout",
     "output_type": "stream",
     "text": [
      "Requirement already satisfied: google-genai in /opt/conda/lib/python3.10/site-packages (1.37.0)\n",
      "Collecting google-genai\n",
      "  Downloading google_genai-1.39.1-py3-none-any.whl.metadata (45 kB)\n",
      "Requirement already satisfied: anyio<5.0.0,>=4.8.0 in /opt/conda/lib/python3.10/site-packages (from google-genai) (4.10.0)\n",
      "Requirement already satisfied: google-auth<3.0.0,>=2.14.1 in /opt/conda/lib/python3.10/site-packages (from google-genai) (2.40.3)\n",
      "Requirement already satisfied: httpx<1.0.0,>=0.28.1 in /opt/conda/lib/python3.10/site-packages (from google-genai) (0.28.1)\n",
      "Requirement already satisfied: pydantic<3.0.0,>=2.0.0 in /opt/conda/lib/python3.10/site-packages (from google-genai) (2.11.9)\n",
      "Requirement already satisfied: requests<3.0.0,>=2.28.1 in /opt/conda/lib/python3.10/site-packages (from google-genai) (2.32.5)\n",
      "Requirement already satisfied: tenacity<9.2.0,>=8.2.3 in /opt/conda/lib/python3.10/site-packages (from google-genai) (9.1.2)\n",
      "Requirement already satisfied: websockets<15.1.0,>=13.0.0 in /opt/conda/lib/python3.10/site-packages (from google-genai) (15.0.1)\n",
      "Requirement already satisfied: typing-extensions<5.0.0,>=4.11.0 in /opt/conda/lib/python3.10/site-packages (from google-genai) (4.15.0)\n",
      "Requirement already satisfied: exceptiongroup>=1.0.2 in /opt/conda/lib/python3.10/site-packages (from anyio<5.0.0,>=4.8.0->google-genai) (1.3.0)\n",
      "Requirement already satisfied: idna>=2.8 in /opt/conda/lib/python3.10/site-packages (from anyio<5.0.0,>=4.8.0->google-genai) (3.10)\n",
      "Requirement already satisfied: sniffio>=1.1 in /opt/conda/lib/python3.10/site-packages (from anyio<5.0.0,>=4.8.0->google-genai) (1.3.1)\n",
      "Requirement already satisfied: cachetools<6.0,>=2.0.0 in /opt/conda/lib/python3.10/site-packages (from google-auth<3.0.0,>=2.14.1->google-genai) (5.5.2)\n",
      "Requirement already satisfied: pyasn1-modules>=0.2.1 in /opt/conda/lib/python3.10/site-packages (from google-auth<3.0.0,>=2.14.1->google-genai) (0.4.2)\n",
      "Requirement already satisfied: rsa<5,>=3.1.4 in /opt/conda/lib/python3.10/site-packages (from google-auth<3.0.0,>=2.14.1->google-genai) (4.9.1)\n",
      "Requirement already satisfied: certifi in /opt/conda/lib/python3.10/site-packages (from httpx<1.0.0,>=0.28.1->google-genai) (2025.8.3)\n",
      "Requirement already satisfied: httpcore==1.* in /opt/conda/lib/python3.10/site-packages (from httpx<1.0.0,>=0.28.1->google-genai) (1.0.9)\n",
      "Requirement already satisfied: h11>=0.16 in /opt/conda/lib/python3.10/site-packages (from httpcore==1.*->httpx<1.0.0,>=0.28.1->google-genai) (0.16.0)\n",
      "Requirement already satisfied: annotated-types>=0.6.0 in /opt/conda/lib/python3.10/site-packages (from pydantic<3.0.0,>=2.0.0->google-genai) (0.7.0)\n",
      "Requirement already satisfied: pydantic-core==2.33.2 in /opt/conda/lib/python3.10/site-packages (from pydantic<3.0.0,>=2.0.0->google-genai) (2.33.2)\n",
      "Requirement already satisfied: typing-inspection>=0.4.0 in /opt/conda/lib/python3.10/site-packages (from pydantic<3.0.0,>=2.0.0->google-genai) (0.4.1)\n",
      "Requirement already satisfied: charset_normalizer<4,>=2 in /opt/conda/lib/python3.10/site-packages (from requests<3.0.0,>=2.28.1->google-genai) (3.4.2)\n",
      "Requirement already satisfied: urllib3<3,>=1.21.1 in /opt/conda/lib/python3.10/site-packages (from requests<3.0.0,>=2.28.1->google-genai) (2.5.0)\n",
      "Requirement already satisfied: pyasn1>=0.1.3 in /opt/conda/lib/python3.10/site-packages (from rsa<5,>=3.1.4->google-auth<3.0.0,>=2.14.1->google-genai) (0.6.1)\n",
      "Downloading google_genai-1.39.1-py3-none-any.whl (244 kB)\n",
      "Installing collected packages: google-genai\n",
      "  Attempting uninstall: google-genai\n",
      "    Found existing installation: google-genai 1.37.0\n",
      "    Uninstalling google-genai-1.37.0:\n",
      "      Successfully uninstalled google-genai-1.37.0\n",
      "Successfully installed google-genai-1.39.1\n",
      "Note: you may need to restart the kernel to use updated packages.\n"
     ]
    }
   ],
   "source": [
    "%pip install --upgrade google-genai"
   ]
  },
  {
   "cell_type": "markdown",
   "metadata": {},
   "source": [
    "### Restart current runtime\n",
    "\n",
    "To use the newly installed packages in this Jupyter runtime, you must restart the runtime. You can do this by running the cell below, which will restart the current kernel."
   ]
  },
  {
   "cell_type": "code",
   "execution_count": 3,
   "metadata": {
    "tags": []
   },
   "outputs": [
    {
     "data": {
      "text/plain": [
       "{'status': 'ok', 'restart': True}"
      ]
     },
     "execution_count": 3,
     "metadata": {},
     "output_type": "execute_result"
    }
   ],
   "source": [
    "# Restart kernel after installs so that your environment can access the new packages\n",
    "import IPython\n",
    "\n",
    "app = IPython.Application.instance()\n",
    "app.kernel.do_shutdown(True)"
   ]
  },
  {
   "cell_type": "markdown",
   "metadata": {},
   "source": [
    "<div class=\"alert alert-block alert-warning\">\n",
    "<b>⚠️ The kernel is going to restart. Please wait until it is finished before continuing to the next step. ⚠️</b>\n",
    "</div>"
   ]
  },
  {
   "cell_type": "markdown",
   "metadata": {
    "id": "6Fom0ZkMSBW6"
   },
   "source": [
    "### Authenticate your notebook environment (Colab only)\n",
    "\n",
    "If you are running this notebook on Google Colab, run the following cell to authenticate your environment. This step is not required if you are using [Vertex AI Workbench](https://cloud.google.com/vertex-ai-workbench)."
   ]
  },
  {
   "cell_type": "code",
   "execution_count": 1,
   "metadata": {
    "id": "LCaCx6PLSBW6",
    "tags": []
   },
   "outputs": [],
   "source": [
    "import sys\n",
    "\n",
    "# Additional authentication is required for Google Colab\n",
    "if \"google.colab\" in sys.modules:\n",
    "    # Authenticate user to Google Cloud\n",
    "    from google.colab import auth\n",
    "\n",
    "    auth.authenticate_user()"
   ]
  },
  {
   "cell_type": "markdown",
   "metadata": {
    "id": "BuQwwRiniVFG"
   },
   "source": [
    "### Define Google Cloud project information and initialize Vertex AI\n",
    "\n",
    "Initialize the Vertex AI SDK for Python for your project:"
   ]
  },
  {
   "cell_type": "code",
   "execution_count": 2,
   "metadata": {
    "id": "rtMowvm-yQ97",
    "tags": []
   },
   "outputs": [],
   "source": [
    "# Define project information\n",
    "PROJECT_ID = \"\"  # @param {type:\"string\"}\n",
    "LOCATION = \"\"  # @param {type:\"string\"}\n",
    "\n",
    "# Create the API client\n",
    "from google import genai\n",
    "client = genai.Client(vertexai=True, project=PROJECT_ID, location=LOCATION)"
   ]
  },
  {
   "cell_type": "markdown",
   "metadata": {
    "id": "4437b7608c8e"
   },
   "source": [
    "### Import libraries"
   ]
  },
  {
   "cell_type": "code",
   "execution_count": 3,
   "metadata": {
    "id": "yZ75ioBU9EwM"
   },
   "outputs": [],
   "source": [
    "from google.genai.types import GenerateContentConfig, Part"
   ]
  },
  {
   "cell_type": "markdown",
   "metadata": {
    "id": "hhcZv4HFUYRW"
   },
   "source": [
    "## Using Gemini  model\n",
    "\n",
    "Gemini is a multimodal model that supports adding image and video in text or chat prompts for a text response."
   ]
  },
  {
   "cell_type": "markdown",
   "metadata": {
    "id": "ExdEEGUqUYRW"
   },
   "source": [
    "### Load Gemini model"
   ]
  },
  {
   "cell_type": "code",
   "execution_count": 4,
   "metadata": {
    "id": "pxlvLmncUYRW"
   },
   "outputs": [],
   "source": [
    "MODEL_ID = \"gemini-2.0-flash\""
   ]
  },
  {
   "cell_type": "markdown",
   "metadata": {
    "id": "MONqa2K8IjSz"
   },
   "source": [
    "### Visual understanding with Gemini\n",
    "\n",
    "Here you will ask the Gemini model to describe a room in details from its image. To do that you have to **combine text and image in a single prompt**."
   ]
  },
  {
   "cell_type": "code",
   "execution_count": 5,
   "metadata": {
    "id": "26wP-epVFBBK"
   },
   "outputs": [
    {
     "name": "stdout",
     "output_type": "stream",
     "text": [
      "\n",
      "-------Response--------\n",
      "Here's a description of the room and its atmosphere based on the image:\n",
      "\n",
      "**Overall Atmosphere:**\n",
      "\n",
      "The room exudes a calming and inviting atmosphere. The color palette is primarily neutral, with shades of white, beige, and light wood creating a sense of serenity and warmth. The decor features natural textures and materials, which contributes to a relaxed and organic feel. The design choices lean towards modern with a bohemian touch.\n",
      "\n",
      "**Visible Elements:**\n",
      "\n",
      "*   **Seating:** There is a light gray sofa with an assortment of neutral pillows, a light-colored armchair with a round cushion, and a round ottoman.\n",
      "*   **Wall Decor:** Two large round mirrors with woven frames are hung on the wall behind the sofa, adding depth and visual interest.\n",
      "*   **Lighting:** A floor lamp with a neutral shade provides soft illumination.\n",
      "*   **Coffee Table:** A round coffee table with a white marble top and wooden legs sits in front of the sofa.\n",
      "*   **Accessories:** The room is accessorized with a decorative vase filled with tall feathery plumes, a throw blanket draped over the sofa, and a basket next to the floor lamp. A fur rug is placed under the armchair and ottoman, adding texture and comfort. Books and a decorative bowl are on the coffee table.\n",
      "*   **Flooring:** The main flooring appears to be a large woven rug in a neutral color, with some hardwood flooring visible at the edges of the room.\n",
      "*   **Walls:** The walls are painted in a light neutral color.\n",
      "*   **Window Treatment:** a curtain partially visible, providing a touch of elegance.\n",
      "\n",
      "In short, the room seems carefully curated to create a comfortable and stylish living space.\n"
     ]
    }
   ],
   "source": [
    "# urls for room images\n",
    "room_image_url = \"https://storage.googleapis.com/github-repo/img/gemini/retail-recommendations/rooms/spacejoy-c0JoR_-2x3E-unsplash.jpg\"\n",
    "room_image = Part.from_uri(file_uri=room_image_url, mime_type=\"image/jpeg\")\n",
    "\n",
    "prompt = \"Describe what's visible in this room and the overall atmosphere:\"\n",
    "contents = [\n",
    "    room_image,\n",
    "    prompt,\n",
    "]\n",
    "\n",
    "responses = client.models.generate_content_stream(model=MODEL_ID, contents=contents)\n",
    "\n",
    "print(\"\\n-------Response--------\")\n",
    "for response in responses:\n",
    "    print(response.text, end=\"\")"
   ]
  },
  {
   "cell_type": "markdown",
   "metadata": {
    "id": "64I8-GxSbkTv"
   },
   "source": [
    "### Generating open recommendations based on built-in knowledge\n",
    "\n",
    "Using the same image, you can ask the model to recommend **a piece of furniture** that would fit in it alongside with the description of the room.\n",
    "\n",
    "Note that the model can choose **any furniture** to recommend in this case, and can do so from its only built-in knowledge."
   ]
  },
  {
   "cell_type": "code",
   "execution_count": 6,
   "metadata": {
    "id": "UaRDl1WvypT8"
   },
   "outputs": [
    {
     "name": "stdout",
     "output_type": "stream",
     "text": [
      "\n",
      "-------Response--------\n",
      "I recommend adding a **long, low media console** beneath the two round wall mirrors.\n",
      "\n",
      "**Reasoning:**\n",
      "\n",
      "*   **Functionality:** A media console would add practical storage space, which appears to be lacking in the room. It can house electronics, media, books, or other decorative items.\n",
      "*   **Balance:** The room feels slightly top-heavy with the mirrors. A horizontal piece of furniture beneath them would ground the space and visually balance the wall.\n",
      "*   **Style Cohesion:** A console made of a similar light wood or with woven rattan elements would complement the existing natural, neutral, and slightly bohemian style of the room.\n",
      "*   **Room's Potential:** The space beneath the mirrors is currently unused, making it a prime spot for a new addition that blends form and function."
     ]
    }
   ],
   "source": [
    "prompt1 = \"Recommend a new piece of furniture for this room:\"\n",
    "prompt2 = \"and explain the reason in detail\"\n",
    "contents = [prompt1, room_image, prompt2]\n",
    "\n",
    "responses = client.models.generate_content_stream(model=MODEL_ID, contents=contents)\n",
    "\n",
    "print(\"\\n-------Response--------\")\n",
    "for response in responses:\n",
    "    print(response.text, end=\"\")"
   ]
  },
  {
   "cell_type": "markdown",
   "metadata": {
    "id": "lzdaG4iIdZM8"
   },
   "source": [
    "In the next cell, you will ask the model to recommend **a type of chair** that would fit in it alongside with the description of the room.\n",
    "\n",
    "Note that the model can choose **any type of chair** to recommend in this case."
   ]
  },
  {
   "cell_type": "code",
   "execution_count": 7,
   "metadata": {
    "id": "h7xKDMFLyQuD"
   },
   "outputs": [
    {
     "name": "stdout",
     "output_type": "stream",
     "text": [
      "\n",
      "-------Response--------\n",
      "The room is decorated in a neutral, airy style with a focus on natural textures. The walls are a soft off-white. The floors appear to be hardwood with a light-colored woven rug covering most of the space.\n",
      "\n",
      "The main seating area consists of a light gray sofa adorned with a variety of neutral-toned pillows and a throw blanket. Above the sofa, two large round mirrors with woven, straw-like frames decorate the wall. To the left of the sofa, there is a tall white cylindrical vase filled with feathery pampas grass. Adjacent to the vase, there is a white rounded armchair with a matching round cushion and a woven pouf resting on a sheepskin rug.\n",
      "\n",
      "In front of the sofa, there is a round white coffee table with wooden legs. To the right of the sofa, a floor lamp with a cylindrical lampshade stands next to a woven basket.\n",
      "\n",
      "A chair that would fit in well with this decor would be a rattan or wicker chair with soft, neutral-toned cushions. The natural material would complement the existing woven textures and the light colors would maintain the room's airy feel. A chair with a sculptural shape could also work well, adding a touch of visual interest without disrupting the overall calming aesthetic.\n"
     ]
    }
   ],
   "source": [
    "prompt1 = \"Describe this room:\"\n",
    "prompt2 = \"and recommend a type of chair that would fit in it\"\n",
    "contents = [prompt1, room_image, prompt2]\n",
    "\n",
    "responses = client.models.generate_content_stream(model=MODEL_ID, contents=contents)\n",
    "\n",
    "print(\"\\n-------Response--------\")\n",
    "for response in responses:\n",
    "    print(response.text, end=\"\")"
   ]
  },
  {
   "cell_type": "markdown",
   "metadata": {
    "id": "idEB0JFcbznD"
   },
   "source": [
    "### Generating recommendations based on provided images\n",
    "\n",
    "Instead of keeping the recommendation open, you can also provide a list of items for the model to choose from. Here you will download a few chair images and set them as options for the Gemini model to recommend from. This is particularly useful for retail companies who want to provide recommendations to users based on the kind of room they have, and the available items that the store offers."
   ]
  },
  {
   "cell_type": "code",
   "execution_count": 8,
   "metadata": {
    "id": "f_jMmwRiFcPF"
   },
   "outputs": [
    {
     "name": "stdout",
     "output_type": "stream",
     "text": [
      "\n",
      "-------Response--------\n",
      "Okay, I'll analyze each chair and determine if it complements the room's style.\n",
      "\n",
      "**Overall Room Style:**\n",
      "\n",
      "The room presents a light, airy, and neutral aesthetic. It leans towards a modern bohemian style, with natural textures, clean lines, and a muted color palette. Key features include:\n",
      "\n",
      "*   Neutral Colors: Predominantly whites, creams, beiges, and light woods.\n",
      "*   Natural Materials: Rattan mirrors, a woven rug, a wooly rug, light colored furniture.\n",
      "*   Clean Lines: The furniture has relatively simple shapes and silhouettes.\n",
      "\n",
      "**Chair Analysis:**\n",
      "\n",
      "*   **Chair 1:** This chair is a vintage, industrial-style stool. It is unlikely to fit the desired style, as its style leans towards more of an older vintage look.\n",
      "\n",
      "*   **Chair 2:** This chair is a modern armchair that can be a good fit for the space. It provides the seating of an armchair while maintaining a neutral tone that fits well.\n",
      "\n",
      "*   **Chair 3:** This chair does not fit the desired style, as the stools are more for bar environments while this is a living room space.\n",
      "\n",
      "*   **Chair 4:** This chair is a modern chair, although it has a darker tone. This chair may fit well, but should have a lighter tone.\n",
      "\n",
      "**Summary:**\n",
      "\n",
      "*   **Chair 1:** No\n",
      "\n",
      "*   **Chair 2:** Yes\n",
      "\n",
      "*   **Chair 3:** No\n",
      "\n",
      "*   **Chair 4:** Maybe"
     ]
    }
   ],
   "source": [
    "# Download and display sample chairs\n",
    "furniture_image_urls = [\n",
    "    \"https://storage.googleapis.com/github-repo/img/gemini/retail-recommendations/furnitures/cesar-couto-OB2F6CsMva8-unsplash.jpg\",\n",
    "    \"https://storage.googleapis.com/github-repo/img/gemini/retail-recommendations/furnitures/daniil-silantev-1P6AnKDw6S8-unsplash.jpg\",\n",
    "    \"https://storage.googleapis.com/github-repo/img/gemini/retail-recommendations/furnitures/ruslan-bardash-4kTbAMRAHtQ-unsplash.jpg\",\n",
    "    \"https://storage.googleapis.com/github-repo/img/gemini/retail-recommendations/furnitures/scopic-ltd-NLlWwR4d3qU-unsplash.jpg\",\n",
    "]\n",
    "\n",
    "# Load furniture images as Part Objects\n",
    "furniture_images = [\n",
    "    Part.from_uri(file_uri=url, mime_type=\"image/jpeg\") for url in furniture_image_urls\n",
    "]\n",
    "\n",
    "# To recommend an item from a selection, you will need to label the item number within the prompt.\n",
    "# That way you are providing the model with a way to reference each image as you pose a question.\n",
    "# Labelling images within your prompt also help to reduce hallucinations and overall produce better results.\n",
    "contents = [\n",
    "    \"Consider the following chairs:\",\n",
    "    \"chair 1:\",\n",
    "    furniture_images[0],\n",
    "    \"chair 2:\",\n",
    "    furniture_images[1],\n",
    "    \"chair 3:\",\n",
    "    furniture_images[2],\n",
    "    \"chair 4:\",\n",
    "    furniture_images[3],\n",
    "    \"room:\",\n",
    "    room_image,\n",
    "    \"You are an interior designer. For each chair, explain whether it would be appropriate for the style of the room:\",\n",
    "]\n",
    "\n",
    "responses = client.models.generate_content_stream(model=MODEL_ID, contents=contents)\n",
    "\n",
    "print(\"\\n-------Response--------\")\n",
    "for response in responses:\n",
    "    print(response.text, end=\"\")"
   ]
  },
  {
   "cell_type": "markdown",
   "metadata": {
    "id": "Mkw-DixOUYRc"
   },
   "source": [
    "You can also return the responses in JSON format, to make it easier to plug recommendations into a recommendation system:"
   ]
  },
  {
   "cell_type": "code",
   "execution_count": 9,
   "metadata": {
    "id": "MDBQufRYUYRc"
   },
   "outputs": [
    {
     "name": "stdout",
     "output_type": "stream",
     "text": [
      "\n",
      "-------Response--------\n",
      "[\n",
      "  {\n",
      "    \"chair_id\": \"chair 1\",\n",
      "    \"fits\": false,\n",
      "    \"explanation\": \"Chair 1 is a stool style chair with a metal frame and wooden seat. It does not match the sophisticated style of the room.\"\n",
      "  },\n",
      "  {\n",
      "    \"chair_id\": \"chair 2\",\n",
      "    \"fits\": true,\n",
      "    \"explanation\": \"Chair 2 is a cream colored armchair with tufted back and white legs. It is a good match for the colors and style of the room. \"\n",
      "  },\n",
      "  {\n",
      "    \"chair_id\": \"chair 3\",\n",
      "    \"fits\": false,\n",
      "    \"explanation\": \"Chair 3 is a wooden stool. It is too simple for the room.\"\n",
      "  },\n",
      "  {\n",
      "    \"chair_id\": \"chair 4\",\n",
      "    \"fits\": true,\n",
      "    \"explanation\": \"Chair 4 is a fabric chair with wooden legs, and has a modern look that is very similar to the aesthetic of the room.\"\n",
      "  }\n",
      "]"
     ]
    }
   ],
   "source": [
    "contents = [\n",
    "    \"Consider the following chairs:\",\n",
    "    \"chair 1:\",\n",
    "    furniture_images[0],\n",
    "    \"chair 2:\",\n",
    "    furniture_images[1],\n",
    "    \"chair 3:\",\n",
    "    furniture_images[2],\n",
    "    \"chair 4:\",\n",
    "    furniture_images[3],\n",
    "    \"room:\",\n",
    "    room_image,\n",
    "    \"You are an interior designer. Return in JSON, for each chair, whether it would fit in the room, with an explanation:\",\n",
    "]\n",
    "\n",
    "responses = client.models.generate_content_stream(\n",
    "    model=MODEL_ID,\n",
    "    contents=contents,\n",
    "    config=GenerateContentConfig(response_mime_type=\"application/json\"),\n",
    ")\n",
    "\n",
    "print(\"\\n-------Response--------\")\n",
    "for response in responses:\n",
    "    print(response.text, end=\"\")"
   ]
  },
  {
   "cell_type": "markdown",
   "metadata": {
    "id": "0_uhGdZERToX"
   },
   "source": [
    "## Conclusion\n",
    "\n",
    "This notebook showed how you can easily build a multimodal recommendation system using Gemini for furniture, but you can also use the similar approach in:\n",
    "\n",
    "- recommending clothes based on an occasion or an image of the venue\n",
    "- recommending wallpaper based on the room and settings\n",
    "\n",
    "You may also want to explore how you can build a RAG (retrieval-augmented generation) system where you retrieve relevant images from your store inventory to users who can they use Gemini to help identify the most ideal choice from the various options provided, and also explain the rationale to users."
   ]
  }
 ],
 "metadata": {
  "colab": {
   "name": "multimodal_retail_recommendations.ipynb",
   "toc_visible": true
  },
  "environment": {
   "kernel": "conda-base-py",
   "name": "workbench-notebooks.m133",
   "type": "gcloud",
   "uri": "us-docker.pkg.dev/deeplearning-platform-release/gcr.io/workbench-notebooks:m133"
  },
  "kernelspec": {
   "display_name": "Python 3 (ipykernel) (Local) (Local)",
   "language": "python",
   "name": "conda-base-py"
  },
  "language_info": {
   "codemirror_mode": {
    "name": "ipython",
    "version": 3
   },
   "file_extension": ".py",
   "mimetype": "text/x-python",
   "name": "python",
   "nbconvert_exporter": "python",
   "pygments_lexer": "ipython3",
   "version": "3.10.18"
  }
 },
 "nbformat": 4,
 "nbformat_minor": 4
}
