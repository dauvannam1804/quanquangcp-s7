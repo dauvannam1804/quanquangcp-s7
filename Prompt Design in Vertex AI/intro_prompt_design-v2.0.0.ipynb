{
 "cells": [
  {
   "cell_type": "code",
   "execution_count": null,
   "metadata": {
    "id": "ur8xi4C7S06n"
   },
   "outputs": [],
   "source": [
    "# Copyright 2025 Google LLC\n",
    "#\n",
    "# Licensed under the Apache License, Version 2.0 (the \"License\");\n",
    "# you may not use this file except in compliance with the License.\n",
    "# You may obtain a copy of the License at\n",
    "#\n",
    "#     https://www.apache.org/licenses/LICENSE-2.0\n",
    "#\n",
    "# Unless required by applicable law or agreed to in writing, software\n",
    "# distributed under the License is distributed on an \"AS IS\" BASIS,\n",
    "# WITHOUT WARRANTIES OR CONDITIONS OF ANY KIND, either express or implied.\n",
    "# See the License for the specific language governing permissions and\n",
    "# limitations under the License."
   ]
  },
  {
   "cell_type": "markdown",
   "metadata": {
    "id": "JAPoU8Sm5E6e"
   },
   "source": [
    "# Prompt Design - Best Practices\n",
    "\n",
    "<table align=\"left\">\n",
    "  <td style=\"text-align: center\">\n",
    "    <a href=\"https://colab.research.google.com/github/GoogleCloudPlatform/generative-ai/blob/main/gemini/prompts/intro_prompt_design.ipynb\">\n",
    "      <img width=\"32px\" src=\"https://www.gstatic.com/pantheon/images/bigquery/welcome_page/colab-logo.svg\" alt=\"Google Colaboratory logo\"><br> Open in Colab\n",
    "    </a>\n",
    "  </td>\n",
    "  <td style=\"text-align: center\">\n",
    "    <a href=\"https://console.cloud.google.com/vertex-ai/colab/import/https:%2F%2Fraw.githubusercontent.com%2FGoogleCloudPlatform%2Fgenerative-ai%2Fmain%2Fgemini%2Fprompts%2Fintro_prompt_design.ipynb\">\n",
    "      <img width=\"32px\" src=\"https://lh3.googleusercontent.com/JmcxdQi-qOpctIvWKgPtrzZdJJK-J3sWE1RsfjZNwshCFgE_9fULcNpuXYTilIR2hjwN\" alt=\"Google Cloud Colab Enterprise logo\"><br> Open in Colab Enterprise\n",
    "    </a>\n",
    "  </td>\n",
    "  <td style=\"text-align: center\">\n",
    "    <a href=\"https://console.cloud.google.com/vertex-ai/workbench/deploy-notebook?download_url=https://raw.githubusercontent.com/GoogleCloudPlatform/generative-ai/main/gemini/prompts/intro_prompt_design.ipynb\">\n",
    "      <img src=\"https://www.gstatic.com/images/branding/gcpiconscolors/vertexai/v1/32px.svg\" alt=\"Vertex AI logo\"><br> Open in Workbench\n",
    "    </a>\n",
    "  </td>\n",
    "  <td style=\"text-align: center\">\n",
    "    <a href=\"https://github.com/GoogleCloudPlatform/generative-ai/blob/main/gemini/prompts/intro_prompt_design.ipynb\">\n",
    "      <img width=\"32px\" src=\"https://www.svgrepo.com/download/217753/github.svg\" alt=\"GitHub logo\"><br> View on GitHub\n",
    "    </a>\n",
    "  </td>\n",
    "  <td style=\"text-align: center\">\n",
    "    <a href=\"https://goo.gle/4fWHlze\">\n",
    "      <img width=\"32px\" src=\"https://cdn.qwiklabs.com/assets/gcp_cloud-e3a77215f0b8bfa9b3f611c0d2208c7e8708ed31.svg\" alt=\"Google Cloud logo\"><br> Open in  Cloud Skills Boost\n",
    "    </a>\n",
    "  </td>\n",
    "</table>\n",
    "\n",
    "<div style=\"clear: both;\"></div>\n",
    "\n",
    "<b>Share to:</b>\n",
    "\n",
    "<a href=\"https://www.linkedin.com/sharing/share-offsite/?url=https%3A//github.com/GoogleCloudPlatform/generative-ai/blob/main/gemini/prompts/intro_prompt_design.ipynb\" target=\"_blank\">\n",
    "  <img width=\"20px\" src=\"https://upload.wikimedia.org/wikipedia/commons/8/81/LinkedIn_icon.svg\" alt=\"LinkedIn logo\">\n",
    "</a>\n",
    "<a href=\"https://bsky.app/intent/compose?text=https%3A//github.com/GoogleCloudPlatform/generative-ai/blob/main/gemini/prompts/intro_prompt_design.ipynb\" target=\"_blank\">\n",
    "  <img width=\"20px\" src=\"https://upload.wikimedia.org/wikipedia/commons/7/7a/Bluesky_Logo.svg\" alt=\"Bluesky logo\">\n",
    "</a>\n",
    "<a href=\"https://twitter.com/intent/tweet?url=https%3A//github.com/GoogleCloudPlatform/generative-ai/blob/main/gemini/prompts/intro_prompt_design.ipynb\" target=\"_blank\">\n",
    "  <img width=\"20px\" src=\"https://upload.wikimedia.org/wikipedia/commons/5/5a/X_icon_2.svg\" alt=\"X logo\">\n",
    "</a>\n",
    "<a href=\"https://reddit.com/submit?url=https%3A//github.com/GoogleCloudPlatform/generative-ai/blob/main/gemini/prompts/intro_prompt_design.ipynb\" target=\"_blank\">\n",
    "  <img width=\"20px\" src=\"https://redditinc.com/hubfs/Reddit%20Inc/Brand/Reddit_Logo.png\" alt=\"Reddit logo\">\n",
    "</a>\n",
    "<a href=\"https://www.facebook.com/sharer/sharer.php?u=https%3A//github.com/GoogleCloudPlatform/generative-ai/blob/main/gemini/prompts/intro_prompt_design.ipynb\" target=\"_blank\">\n",
    "  <img width=\"20px\" src=\"https://upload.wikimedia.org/wikipedia/commons/5/51/Facebook_f_logo_%282019%29.svg\" alt=\"Facebook logo\">\n",
    "</a>"
   ]
  },
  {
   "cell_type": "markdown",
   "metadata": {
    "id": "84f0f73a0f76"
   },
   "source": [
    "| Authors |\n",
    "| --- |\n",
    "| [Polong Lin](https://github.com/polong-lin) |\n",
    "| [Karl Weinmeister](https://github.com/kweinmeister) |"
   ]
  },
  {
   "cell_type": "markdown",
   "metadata": {
    "id": "tvgnzT1CKxrO"
   },
   "source": [
    "## Overview\n",
    "\n",
    "This notebook covers the essentials of prompt engineering, including some best practices.\n",
    "\n",
    "Learn more about prompt design in the [official documentation](https://cloud.google.com/vertex-ai/docs/generative-ai/text/text-overview).\n",
    "\n",
    "In this notebook, you learn best practices around prompt engineering -- how to design prompts to improve the quality of your responses.\n",
    "\n",
    "This notebook covers the following best practices for prompt engineering:\n",
    "\n",
    "- Be concise\n",
    "- Be specific and well-defined\n",
    "- Ask one task at a time\n",
    "- Turn generative tasks into classification tasks\n",
    "- Improve response quality by including examples"
   ]
  },
  {
   "cell_type": "markdown",
   "metadata": {
    "id": "61RBz8LLbxCR"
   },
   "source": [
    "## Getting Started"
   ]
  },
  {
   "cell_type": "markdown",
   "metadata": {
    "id": "No17Cw5hgx12"
   },
   "source": [
    "### Install Google Gen AI SDK\n"
   ]
  },
  {
   "cell_type": "code",
   "execution_count": 1,
   "metadata": {
    "id": "tFy3H3aPgx12",
    "tags": []
   },
   "outputs": [
    {
     "name": "stdout",
     "output_type": "stream",
     "text": [
      "Note: you may need to restart the kernel to use updated packages.\n"
     ]
    }
   ],
   "source": [
    "%pip install --upgrade --quiet google-genai"
   ]
  },
  {
   "cell_type": "markdown",
   "metadata": {
    "id": "06489bd14f16"
   },
   "source": [
    "### Import libraries\n"
   ]
  },
  {
   "cell_type": "code",
   "execution_count": 2,
   "metadata": {
    "id": "154137022fb6",
    "tags": []
   },
   "outputs": [],
   "source": [
    "from IPython.display import Markdown, display\n",
    "from google import genai\n",
    "from google.genai.types import GenerateContentConfig"
   ]
  },
  {
   "cell_type": "markdown",
   "metadata": {
    "id": "DF4l8DTdWgPY"
   },
   "source": [
    "### Set Google Cloud project information and create client\n",
    "\n",
    "To get started using Vertex AI, you must have an existing Google Cloud project and [enable the Vertex AI API](https://console.cloud.google.com/flows/enableapi?apiid=aiplatform.googleapis.com).\n",
    "\n",
    "Learn more about [setting up a project and a development environment](https://cloud.google.com/vertex-ai/docs/start/cloud-environment)."
   ]
  },
  {
   "cell_type": "code",
   "execution_count": 4,
   "metadata": {
    "id": "Nqwi-5ufWp_B",
    "tags": []
   },
   "outputs": [],
   "source": [
    "import os\n",
    "\n",
    "PROJECT_ID = \"[your_project_id]\"  # @param {type: \"string\", placeholder: \"[your-project-id]\", isTemplate: true}\n",
    "if not PROJECT_ID or PROJECT_ID == \"[your_project_id]\":\n",
    "    PROJECT_ID = str(os.environ.get(\"GOOGLE_CLOUD_PROJECT\"))\n",
    "\n",
    "LOCATION = \"us-west1\""
   ]
  },
  {
   "cell_type": "code",
   "execution_count": 5,
   "metadata": {
    "id": "QqRWdPGmW3NJ",
    "tags": []
   },
   "outputs": [],
   "source": [
    "client = genai.Client(vertexai=True, project=PROJECT_ID, location=LOCATION)"
   ]
  },
  {
   "cell_type": "markdown",
   "metadata": {
    "id": "OnFPpCRtXRl4"
   },
   "source": [
    "### Load model\n",
    "\n",
    "Learn more about all [Gemini models on Vertex AI](https://cloud.google.com/vertex-ai/generative-ai/docs/learn/models#gemini-models)."
   ]
  },
  {
   "cell_type": "code",
   "execution_count": 6,
   "metadata": {
    "id": "IQYu_9SvXQah",
    "tags": []
   },
   "outputs": [],
   "source": [
    "MODEL_ID = \"gemini-2.5-flash\"  # @param {type: \"string\"}"
   ]
  },
  {
   "cell_type": "markdown",
   "metadata": {
    "id": "cVOtUNJ5X0PY"
   },
   "source": [
    "## Prompt engineering best practices"
   ]
  },
  {
   "cell_type": "markdown",
   "metadata": {
    "id": "uv_e0fEPX60q"
   },
   "source": [
    "Prompt engineering is all about how to design your prompts so that the response is what you were indeed hoping to see.\n",
    "\n",
    "The idea of using \"unfancy\" prompts is to minimize the noise in your prompt to reduce the possibility of the LLM misinterpreting the intent of the prompt. Below are a few guidelines on how to engineer \"unfancy\" prompts.\n",
    "\n",
    "In this section, you'll cover the following best practices when engineering prompts:\n",
    "\n",
    "* Be concise\n",
    "* Be specific, and well-defined\n",
    "* Ask one task at a time\n",
    "* Improve response quality by including examples\n",
    "* Turn generative tasks to classification tasks to improve safety"
   ]
  },
  {
   "cell_type": "markdown",
   "metadata": {
    "id": "0pY4XX0OX9_Y"
   },
   "source": [
    "### Be concise"
   ]
  },
  {
   "cell_type": "markdown",
   "metadata": {
    "id": "xlRpxyxGYA1K"
   },
   "source": [
    "🛑 Not recommended. The prompt below is unnecessarily verbose."
   ]
  },
  {
   "cell_type": "code",
   "execution_count": 7,
   "metadata": {
    "id": "YKV4G-CfXdbi",
    "tags": []
   },
   "outputs": [
    {
     "data": {
      "text/markdown": [
       "That's a fantastic niche! Dried flowers evoke a sense of timelessness, artistry, and sustainability. Here are some name ideas, categorized by their vibe, to help you find the perfect fit:\n",
       "\n",
       "**Evocative & Poetic:**\n",
       "\n",
       "1.  **Everbloom Studio:** Suggests lasting beauty and an artistic approach.\n",
       "2.  **The Enduring Stem:** Highlights longevity and the natural element.\n",
       "3.  **Whispering Botanicals:** Implies a delicate, natural, and perhaps vintage feel.\n",
       "4.  **Muted Bloom Co.:** Captures the softer, more subdued palette of dried flowers.\n",
       "5.  **Quiet Flora:** Evokes a serene and understated elegance.\n",
       "6.  **Heirloom Blooms:** Suggests cherished, timeless pieces.\n",
       "7.  **Golden Hour Florals:** References the beautiful, soft light often associated with natural aesthetics.\n",
       "8.  **Terra Bloom (or Terra Flora):** \"Terra\" means earth, connecting to natural, earthy elements.\n",
       "9.  **Aevum Florals:** \"Aevum\" is Latin for age, lifetime, eternity – perfect for dried flowers.\n",
       "10. **Still Petal Studio:** A play on \"still life,\" emphasizing the preserved beauty.\n",
       "\n",
       "**Direct & Descriptive (but still stylish):**\n",
       "\n",
       "11. **The Dried Bouquet Co.** (or Workshop/Studio)\n",
       "12. **Permanent Petals:** Clear and memorable.\n",
       "13. **Timeless Botanicals:** Emphasizes the lasting quality.\n",
       "14. **Preserved Posy:** \"Posy\" adds a charming, classic touch.\n",
       "15. **The Everlasting Florist:** Straightforward and positive.\n",
       "16. **Sun-Kissed Stems:** Implies a natural drying process.\n",
       "17. **Dried & Dainty:** Highlights the delicate beauty.\n",
       "18. **Bloom & Preserve:** Simple, active, and descriptive.\n",
       "\n",
       "**Whimsical & Playful:**\n",
       "\n",
       "19. **Never-Wilting Wonders:** A cute, differentiating name.\n",
       "20. **Petal Postscript:** Suggests a beautiful, lasting memory or end note.\n",
       "21. **The Perennial Posy:** Playful use of \"perennial\" (usually for living plants, but works here for lasting).\n",
       "22. **Dusty Bloom Co.:** Evokes a rustic, vintage, soft aesthetic.\n",
       "23. **Wither & Whimsy:** A bold, memorable name that plays on the natural process.\n",
       "\n",
       "**Modern & Chic:**\n",
       "\n",
       "24. **Foliage & Form:** Focuses on the structural and artistic elements.\n",
       "25. **Botanical Endure:** Sleek and sophisticated.\n",
       "26. **Kempt Bloom:** \"Kempt\" means well-cared for, tidy – implying quality and artistry.\n",
       "27. **The Preserved Project:** Suggests a curated, artisanal approach.\n",
       "28. **Kinfolk Florals:** Evokes a natural, community-focused, rustic-chic vibe.\n",
       "\n",
       "---\n",
       "\n",
       "**Tips for Choosing:**\n",
       "\n",
       "*   **Check Availability:** Make sure the name isn't already taken (domain name, social media handles, business registration).\n",
       "*   **Say it Aloud:** Does it roll off the tongue? Is it easy to remember and pronounce?\n",
       "*   **Target Audience:** Who are you trying to attract? A whimsical name might appeal to a different crowd than a modern, chic one.\n",
       "*   **Memorability:** Is it unique enough to stand out?\n",
       "*   **Future Growth:** While you specialize, ensure the name doesn't *too* narrowly restrict you if you ever decide to offer other related products (e.g., dried wreaths, pressed flower art).\n",
       "\n",
       "Good luck with your beautiful new venture!"
      ],
      "text/plain": [
       "<IPython.core.display.Markdown object>"
      ]
     },
     "metadata": {},
     "output_type": "display_data"
    }
   ],
   "source": [
    "prompt = \"What do you think could be a good name for a flower shop that specializes in selling bouquets of dried flowers more than fresh flowers?\"\n",
    "\n",
    "response = client.models.generate_content(model=MODEL_ID, contents=prompt)\n",
    "display(Markdown(response.text))"
   ]
  },
  {
   "cell_type": "markdown",
   "metadata": {
    "id": "YrJexRHJYnmC"
   },
   "source": [
    "✅ Recommended. The prompt below is to the point and concise."
   ]
  },
  {
   "cell_type": "code",
   "execution_count": 8,
   "metadata": {
    "id": "VHetn9lCYrXB",
    "tags": []
   },
   "outputs": [
    {
     "data": {
      "text/markdown": [
       "Here are some name suggestions for a flower shop specializing in dried flower bouquets, categorized by the vibe they evoke:\n",
       "\n",
       "**Elegant & Timeless:**\n",
       "\n",
       "1.  **Everlasting Blooms:** Classic, directly communicates longevity.\n",
       "2.  **The Timeless Petal:** Elegant and speaks to enduring beauty.\n",
       "3.  **Heirloom Blooms:** Suggests cherished, long-lasting beauty.\n",
       "4.  **Preserved Petals Co.** (or Studio): Modern, highlights the preservation aspect.\n",
       "5.  **Eternal Flora:** Poetic and sophisticated.\n",
       "6.  **The Enduring Bouquet:** Focuses on the final product and its lasting nature.\n",
       "7.  **Botanical Keepsake:** Implies a treasured item.\n",
       "8.  **Moonpetal Florals:** A bit whimsical, but still elegant.\n",
       "\n",
       "**Earthy & Rustic:**\n",
       "\n",
       "9.  **Wild Bloom Dried:** Evokes natural, untamed beauty.\n",
       "10. **The Rustic Stem:** Simple, clear, and charming.\n",
       "11. **Meadow Moon Dried Flowers:** Romantic, natural, and a little magical.\n",
       "12. **Dusty Rose Dry Florals:** Specific, hints at a vintage, muted palette.\n",
       "13. **Sun-Kissed Stems:** Implies natural drying and warmth.\n",
       "14. **Terra Bloom:** \"Terra\" (earth) gives an organic feel.\n",
       "15. **The Gathered Garden:** Suggests a collection of natural beauty.\n",
       "\n",
       "**Modern & Chic:**\n",
       "\n",
       "16. **Bloom & Preserve:** Short, punchy, and describes the core offering.\n",
       "17. **Petal & Press:** Artistic and contemporary.\n",
       "18. **The Dried Co.** (or Dry Blooms Co.): Minimalist and trendy.\n",
       "19. **Stilla Floral:** \"Stilla\" is Latin for drop, can evoke delicate, preserved beauty.\n",
       "20. **Air & Bloom:** Suggests natural drying and freshness.\n",
       "21. **Curated Dried:** Highlights the artistic selection.\n",
       "\n",
       "**Whimsical & Charming:**\n",
       "\n",
       "22. **Whispering Stems:** Evokes delicacy and a gentle, natural feel.\n",
       "23. **Faded & Found:** Suggests discovery and vintage charm.\n",
       "24. **Willow & Wild:** A soft, natural, slightly bohemian feel.\n",
       "25. **The Dried Daisy:** Simple, sweet, and memorable.\n",
       "26. **Petal Dust Florals:** Playful and evocative.\n",
       "\n",
       "**Tips for Choosing:**\n",
       "\n",
       "*   **Say it out loud:** Does it roll off the tongue? Is it easy to remember?\n",
       "*   **Check availability:** Is the business name, domain name, and social media handles available?\n",
       "*   **Consider your aesthetic:** Does the name match the overall look and feel of your brand (e.g., modern minimalist vs. rustic bohemian)?\n",
       "*   **Get feedback:** Ask friends, family, or potential customers what they think.\n",
       "\n",
       "Good luck with your new venture!"
      ],
      "text/plain": [
       "<IPython.core.display.Markdown object>"
      ]
     },
     "metadata": {},
     "output_type": "display_data"
    }
   ],
   "source": [
    "prompt = \"Suggest a name for a flower shop that sells bouquets of dried flowers\"\n",
    "\n",
    "response = client.models.generate_content(model=MODEL_ID, contents=prompt)\n",
    "display(Markdown(response.text))"
   ]
  },
  {
   "cell_type": "markdown",
   "metadata": {
    "id": "eXTAvdOHY0OC"
   },
   "source": [
    "### Be specific, and well-defined"
   ]
  },
  {
   "cell_type": "markdown",
   "metadata": {
    "id": "FTH4GEIgY1dp"
   },
   "source": [
    "Suppose that you want to brainstorm creative ways to describe Earth."
   ]
  },
  {
   "cell_type": "markdown",
   "metadata": {
    "id": "o5BmXBiGY4KC"
   },
   "source": [
    "🛑 The prompt below might be a bit too generic (which is certainly OK if you'd like to ask a generic question!)"
   ]
  },
  {
   "cell_type": "code",
   "execution_count": 9,
   "metadata": {
    "id": "eHBaMvv7Y6mR",
    "tags": []
   },
   "outputs": [
    {
     "data": {
      "text/markdown": [
       "Earth is a truly extraordinary planet, often called the \"Blue Marble\" due to its dominant oceans, and it's the only known celestial body in the universe to harbor life. Here's a breakdown of some key facts and features:\n",
       "\n",
       "1.  **Our Place in the Cosmos:**\n",
       "    *   **Third Planet from the Sun:** It resides in the \"Goldilocks Zone,\" meaning it's just the right distance from the Sun for liquid water to exist on its surface, which is crucial for life.\n",
       "    *   **Terrestrial Planet:** Like Mercury, Venus, and Mars, Earth is a rocky planet with a solid surface, as opposed to the gas giants like Jupiter and Saturn.\n",
       "\n",
       "2.  **Size and Shape:**\n",
       "    *   **Diameter:** Approximately 12,742 kilometers (7,918 miles).\n",
       "    *   **Shape:** It's an oblate spheroid, meaning it bulges slightly at the equator due to its rotation and is flattened at the poles.\n",
       "\n",
       "3.  **Atmosphere:**\n",
       "    *   **Composition:** Primarily nitrogen (78%), oxygen (21%), with trace amounts of argon, carbon dioxide, and other gases.\n",
       "    *   **Function:** This unique composition allows us to breathe, protects us from harmful solar radiation, regulates temperature, and creates weather phenomena. It also traps heat, maintaining a stable temperature range.\n",
       "\n",
       "4.  **Water, the Essence of Life:**\n",
       "    *   **Abundance:** Roughly 71% of Earth's surface is covered by water, mostly in its liquid form in oceans, but also as ice in glaciers and polar caps, and as vapor in the atmosphere.\n",
       "    *   **Crucial Role:** Liquid water is fundamental for all known life forms. It acts as a solvent, a medium for chemical reactions, and helps regulate the planet's climate.\n",
       "\n",
       "5.  **Internal Structure:**\n",
       "    *   **Crust:** The outermost solid layer, relatively thin, where we live. It's broken into large pieces called tectonic plates.\n",
       "    *   **Mantle:** A thick, semi-solid layer beneath the crust, composed of hot, dense rock that slowly flows, driving plate tectonics.\n",
       "    *   **Outer Core:** A liquid layer of iron and nickel, responsible for generating Earth's magnetic field.\n",
       "    *   **Inner Core:** A solid ball of iron and nickel at the very center, intensely hot and under immense pressure.\n",
       "\n",
       "6.  **Geological Activity:**\n",
       "    *   **Plate Tectonics:** The Earth's crust is constantly moving, causing continents to drift, mountains to form, volcanoes to erupt, and earthquakes to occur. This dynamic process recycles materials and shapes the planet's surface.\n",
       "\n",
       "7.  **Magnetic Field:**\n",
       "    *   Generated by the convection currents in the liquid outer core, Earth's magnetic field acts as a protective shield, deflecting harmful charged particles from the Sun (solar wind) and cosmic rays. This protection is vital for maintaining our atmosphere and allowing life to thrive.\n",
       "\n",
       "8.  **Life:**\n",
       "    *   **Biodiversity:** Earth is home to an incredible diversity of life, from microscopic organisms to massive trees and animals, occupying every imaginable niche.\n",
       "    *   **Ecosystems:** These diverse life forms interact within complex ecosystems, forming intricate webs of interdependence.\n",
       "\n",
       "9.  **Orbit and Rotation:**\n",
       "    *   **Rotation:** Earth spins on its axis once every 24 hours, creating day and night.\n",
       "    *   **Revolution:** It orbits the Sun once every 365.25 days, defining a year.\n",
       "    *   **Axial Tilt:** The Earth's axis is tilted at about 23.5 degrees relative to its orbit, which is responsible for the changing seasons.\n",
       "    *   **Moon:** Earth has one natural satellite, the Moon, which influences tides and stabilizes Earth's axial tilt.\n",
       "\n",
       "**Challenges and Our Role:**\n",
       "While Earth is incredibly resilient, human activities are significantly impacting its delicate balance. Issues like climate change, deforestation, pollution, and loss of biodiversity pose serious threats to the planet's health and the future of life as we know it. Understanding and protecting Earth is crucial for our continued existence.\n",
       "\n",
       "In essence, Earth is a uniquely vibrant and dynamic planet, a complex system of interconnected geological, atmospheric, and biological processes that have created and sustained life for billions of years. It is our home, and its preservation is our shared responsibility."
      ],
      "text/plain": [
       "<IPython.core.display.Markdown object>"
      ]
     },
     "metadata": {},
     "output_type": "display_data"
    }
   ],
   "source": [
    "prompt = \"Tell me about Earth\"\n",
    "\n",
    "response = client.models.generate_content(model=MODEL_ID, contents=prompt)\n",
    "display(Markdown(response.text))"
   ]
  },
  {
   "cell_type": "markdown",
   "metadata": {
    "id": "4iyvEbteZnFL"
   },
   "source": [
    "✅ Recommended. The prompt below is specific and well-defined."
   ]
  },
  {
   "cell_type": "code",
   "execution_count": 10,
   "metadata": {
    "id": "JQ80z8urZnne",
    "tags": []
   },
   "outputs": [
    {
     "data": {
      "text/markdown": [
       "Earth stands out in many remarkable ways compared to other planets we know, both in our solar system and beyond. Here's a list of its key unique features:\n",
       "\n",
       "1.  **Abundant Surface Liquid Water:** While water ice and subsurface oceans exist on other bodies (like Mars, Europa, Enceladus), Earth is the only known planet with vast, stable bodies of liquid water on its surface (oceans, seas, rivers, lakes). This is crucial for life as we know it.\n",
       "\n",
       "2.  **Plate Tectonics:** Earth is the only planet in our solar system with active, large-scale plate tectonics. This process constantly recycles the planet's crust, drives volcanism, creates mountains, regulates the climate over geological timescales by influencing the carbon cycle, and contributes to the strong magnetic field.\n",
       "\n",
       "3.  **A Free Oxygen-Rich Atmosphere:** Thanks to photosynthetic life, Earth's atmosphere contains about 21% free oxygen. This is highly reactive and wouldn't persist without continuous replenishment by living organisms. Other planets either have negligible atmospheres or atmospheres dominated by gases like carbon dioxide, nitrogen, or hydrogen/helium, but not free oxygen in such quantities.\n",
       "\n",
       "4.  **Complex, Diverse, and Intelligent Life:** Earth is the only known planet to harbor life, let alone an incredible diversity of complex, multicellular organisms, ecosystems, and intelligent civilizations.\n",
       "\n",
       "5.  **A Global Ozone Layer:** The oxygen in Earth's atmosphere, when exposed to UV radiation, forms ozone (O3), which creates a protective layer in the stratosphere. This ozone layer shields the surface from harmful solar ultraviolet radiation, making land colonization by life possible.\n",
       "\n",
       "6.  **A Large Moon with Stabilizing Influence:** Earth's Moon is unusually large relative to its parent planet. This gravitational influence has several unique effects:\n",
       "    *   **Stabilizes Axial Tilt:** It helps stabilize Earth's axial tilt, preventing dramatic and chaotic shifts that could lead to extreme climate variations.\n",
       "    *   **Tidal Forces:** It creates significant ocean tides, which are thought to have played a role in the evolution of early life.\n",
       "\n",
       "7.  **Strong, Global Magnetic Field (Magnetosphere):** Earth has a powerful magnetic field generated by the convection of molten iron in its outer core. This magnetosphere deflects harmful charged particles from the solar wind and cosmic rays, protecting the atmosphere from stripping away and shielding life on the surface. While some other planets have magnetic fields, Earth's is particularly robust for a rocky planet.\n",
       "\n",
       "8.  **Active Hydrological Cycle:** The presence of surface liquid water, coupled with solar energy, drives a continuous cycle of evaporation, condensation, precipitation, and runoff, distributing water across the globe and shaping its surface.\n",
       "\n",
       "9.  **A Balanced Greenhouse Effect:** While Venus suffers from a runaway greenhouse effect and Mars has almost none, Earth's atmosphere traps just enough heat to maintain temperatures suitable for liquid water and life, without becoming excessively hot. This balance is precarious but historically stable.\n",
       "\n",
       "10. **A \"Just Right\" Location in the Habitable Zone:** Earth orbits its star at precisely the right distance for surface liquid water to exist, avoiding the extreme heat of Venus or the frigid cold of Mars. While other planets might be in their star's \"habitable zone,\" Earth's specific combination of attributes makes it uniquely suitable.\n",
       "\n",
       "In essence, Earth is a complex, interconnected system where geological processes, atmospheric conditions, and the presence of life have co-evolved to create a truly unique and vibrant world."
      ],
      "text/plain": [
       "<IPython.core.display.Markdown object>"
      ]
     },
     "metadata": {},
     "output_type": "display_data"
    }
   ],
   "source": [
    "prompt = \"Generate a list of ways that makes Earth unique compared to other planets\"\n",
    "\n",
    "response = client.models.generate_content(model=MODEL_ID, contents=prompt)\n",
    "display(Markdown(response.text))"
   ]
  },
  {
   "cell_type": "markdown",
   "metadata": {
    "id": "R5kmfZYHZsJ7"
   },
   "source": [
    "### Ask one task at a time"
   ]
  },
  {
   "cell_type": "markdown",
   "metadata": {
    "id": "rsAezxeYZuUN"
   },
   "source": [
    "🛑 Not recommended. The prompt below has two parts to the question that could be asked separately."
   ]
  },
  {
   "cell_type": "code",
   "execution_count": 11,
   "metadata": {
    "id": "ElywPXpuZtWf",
    "tags": []
   },
   "outputs": [
    {
     "data": {
      "text/markdown": [
       "Let's break down both of your questions!\n",
       "\n",
       "---\n",
       "\n",
       "### What's the best method of boiling water?\n",
       "\n",
       "The \"best\" method depends on your priorities (speed, energy efficiency, convenience, quantity, location). However, for most everyday household uses, the **electric kettle** is generally considered the best all-around option.\n",
       "\n",
       "Here's a comparison of common methods:\n",
       "\n",
       "1.  **Electric Kettle:**\n",
       "    *   **Pros:**\n",
       "        *   **Speed:** Often the fastest method, especially for moderate amounts (1-2 liters), because the heating element is directly submerged in the water.\n",
       "        *   **Energy Efficiency:** Highly efficient as it heats only the water and often has good insulation.\n",
       "        *   **Convenience:** Automatic shut-off prevents over-boiling, easy to pour, no stovetop required.\n",
       "        *   **Safety:** Auto-shutoff is a significant safety feature.\n",
       "    *   **Cons:** Requires an electrical outlet. Limited by kettle capacity.\n",
       "    *   **Best for:** Tea, coffee, instant noodles, quick boiling for cooking, everyday kitchen use.\n",
       "\n",
       "2.  **Stovetop Pot (Gas or Electric):**\n",
       "    *   **Pros:**\n",
       "        *   **Versatility:** Can boil very large quantities of water.\n",
       "        *   **No Special Equipment:** Most kitchens already have a stove and pot.\n",
       "        *   **Gas Stoves:** Often heat up faster than electric coil stoves.\n",
       "    *   **Cons:**\n",
       "        *   **Speed:** Generally slower than an electric kettle for small to medium amounts, as heat is transferred from the burner to the pot, then to the water.\n",
       "        *   **Energy Efficiency:** Less efficient than electric kettles due to heat loss to the air around the pot.\n",
       "        *   **Convenience:** Requires monitoring to prevent boiling dry or boiling over.\n",
       "    *   **Best for:** Cooking (pasta, rice, blanching), large quantities of water, when an electric kettle isn't available.\n",
       "\n",
       "3.  **Microwave:**\n",
       "    *   **Pros:**\n",
       "        *   **Convenience:** Quick for a single mug of water.\n",
       "        *   **No Special Equipment:** Uses an appliance you likely already have.\n",
       "    *   **Cons:**\n",
       "        *   **Uneven Heating:** Can create \"superheated\" water with no visible bubbles, posing a scalding risk when disturbed.\n",
       "        *   **Energy Efficiency:** Less efficient for boiling water than a kettle or even a stovetop for larger amounts.\n",
       "        *   **Taste:** Some people claim microwave-boiled water has an odd taste (though this is debatable).\n",
       "    *   **Best for:** A single cup of tea/coffee when no other method is available or convenient.\n",
       "\n",
       "**Conclusion for Boiling Water:**\n",
       "\n",
       "For most people, an **electric kettle** is the \"best\" due to its combination of speed, energy efficiency, and convenience for typical household needs. If you need to boil very large quantities, a stovetop pot is more appropriate.\n",
       "\n",
       "---\n",
       "\n",
       "### Why is the sky blue?\n",
       "\n",
       "The sky is blue primarily due to a phenomenon called **Rayleigh Scattering**.\n",
       "\n",
       "Here's how it works:\n",
       "\n",
       "1.  **Sunlight is White Light:** Sunlight appears white to us, but it's actually made up of a spectrum of all colors, each with a different wavelength. Red light has the longest wavelength, and violet/blue light has the shortest.\n",
       "\n",
       "2.  **Earth's Atmosphere:** Our atmosphere is composed of tiny gas molecules, primarily nitrogen (N₂) and oxygen (O₂). These molecules are much, much smaller than the wavelength of visible light.\n",
       "\n",
       "3.  **Rayleigh Scattering:** When sunlight enters the atmosphere, it collides with these tiny gas molecules. Rayleigh scattering states that shorter wavelengths of light (like blue and violet) are scattered much more effectively than longer wavelengths (like red and yellow).\n",
       "    *   Think of it like waves hitting tiny obstacles: the shorter, choppier waves (blue light) get bounced around much more than the longer, smoother waves (red light).\n",
       "\n",
       "4.  **Blue Light is Scattered Everywhere:** Because blue and violet light are scattered so much more, they get dispersed in all directions across the sky. When you look up, no matter where the sun is, you're seeing this scattered blue light coming at you from all angles, making the sky appear blue.\n",
       "\n",
       "5.  **Why not violet?** While violet light scatters even more than blue, our eyes are more sensitive to blue light. Additionally, the sun emits slightly less violet light than blue light, and some of the violet light is also absorbed in the upper atmosphere. This combination makes us perceive the sky as blue rather than violet.\n",
       "\n",
       "**What about other colors?**\n",
       "\n",
       "*   **Sunsets and Sunrises:** When the sun is low on the horizon (sunrise or sunset), its light has to travel through much more of the atmosphere to reach our eyes. During this longer journey, most of the blue and violet light gets scattered away long before it reaches us. What's left are the longer wavelengths – reds, oranges, and yellows – giving us those beautiful warm hues.\n",
       "*   **Clouds:** Clouds are made of much larger water droplets or ice crystals. These particles are much larger than the wavelengths of visible light. When light hits them, it undergoes **Mie scattering**, which scatters all colors of light almost equally. This is why clouds typically appear white or grey (if they're very thick and block most light)."
      ],
      "text/plain": [
       "<IPython.core.display.Markdown object>"
      ]
     },
     "metadata": {},
     "output_type": "display_data"
    }
   ],
   "source": [
    "prompt = \"What's the best method of boiling water and why is the sky blue?\"\n",
    "\n",
    "response = client.models.generate_content(model=MODEL_ID, contents=prompt)\n",
    "display(Markdown(response.text))"
   ]
  },
  {
   "cell_type": "markdown",
   "metadata": {
    "id": "ejzahazBZ8vk"
   },
   "source": [
    "✅ Recommended. The prompts below asks one task a time."
   ]
  },
  {
   "cell_type": "code",
   "execution_count": 12,
   "metadata": {
    "id": "C5ckp2F0Z_Ba",
    "tags": []
   },
   "outputs": [
    {
     "data": {
      "text/markdown": [
       "The \"best\" method of boiling water depends on your priorities: **speed, efficiency, convenience, volume, and portability.**\n",
       "\n",
       "Here's a breakdown of the most common methods and their pros and cons:\n",
       "\n",
       "### 1. Electric Kettle (Best Overall for Home Use)\n",
       "\n",
       "*   **Pros:**\n",
       "    *   **Speed:** Extremely fast, often boiling a liter of water in 2-4 minutes.\n",
       "    *   **Efficiency:** Very energy-efficient as it heats the water directly with minimal heat loss.\n",
       "    *   **Convenience:** Easy to use (just fill and press a button), auto-shutoff when boiled.\n",
       "    *   **Safety:** Modern kettles have auto-shutoff and boil-dry protection.\n",
       "    *   **Portability:** Travel kettles are great for trips.\n",
       "*   **Cons:**\n",
       "    *   Requires an electrical outlet.\n",
       "    *   Initial purchase cost.\n",
       "*   **Best For:** Daily use for tea, coffee, instant meals, or quick boiling for cooking.\n",
       "\n",
       "### 2. Stovetop Pot (Best for Large Volumes & General Cooking)\n",
       "\n",
       "*   **Pros:**\n",
       "    *   **Versatility:** Can boil any volume of water, from a small cup to a large stockpot.\n",
       "    *   **No additional appliance needed:** If you have a stove, you have this option.\n",
       "    *   **Induction cooktops:** Extremely fast and efficient for stovetop boiling. Gas is generally faster than electric coil.\n",
       "*   **Cons:**\n",
       "    *   **Efficiency:** Less efficient than an electric kettle, as heat is lost to the air around the pot.\n",
       "    *   **Speed:** Generally slower than an electric kettle for small to medium volumes.\n",
       "    *   Requires more attention (no auto-shutoff).\n",
       "    *   Hot surfaces, potential for burns.\n",
       "*   **Best For:** Boiling large amounts of water for pasta, blanching vegetables, or if you don't have an electric kettle.\n",
       "\n",
       "### 3. Microwave (Not Recommended for Boiling Water Safely)\n",
       "\n",
       "*   **Pros:**\n",
       "    *   Convenient if you only need a small amount (e.g., one cup).\n",
       "*   **Cons:**\n",
       "    *   **Safety Risk (Superheating):** Water can become \"superheated\" (above boiling point without bubbling) because there are no nucleation sites for bubbles to form. When disturbed (e.g., adding a tea bag or moving the cup), it can suddenly erupt, causing severe burns.\n",
       "    *   **Inconsistent Heating:** Can heat unevenly.\n",
       "    *   **Efficiency:** Less efficient than an electric kettle for the amount of water it boils.\n",
       "    *   **Speed:** Not particularly fast, especially for more than a cup.\n",
       "*   **Best For:** **Avoid boiling water in a microwave whenever possible.** If you must, add a non-metallic stir stick or wooden spoon to provide nucleation sites, and heat in short bursts, stirring in between.\n",
       "\n",
       "### 4. Campfire / Portable Camping Stove (Best for Off-Grid/Outdoor)\n",
       "\n",
       "*   **Pros:**\n",
       "    *   **Portability:** Essential for camping, hiking, or emergencies without electricity/gas.\n",
       "    *   **Self-sufficiency:** Uses various fuels (wood, gas canisters, alcohol, solid fuel).\n",
       "*   **Cons:**\n",
       "    *   **Speed:** Highly variable, depends on the heat source and weather conditions.\n",
       "    *   **Efficiency:** Often less efficient due to heat loss, especially with open fires.\n",
       "    *   Requires more setup and monitoring.\n",
       "    *   Safety concerns with open flames.\n",
       "*   **Best For:** Outdoor adventures, power outages, disaster preparedness.\n",
       "\n",
       "### 5. Immersion Heater (Travel-Specific, Use with Caution)\n",
       "\n",
       "*   **Pros:**\n",
       "    *   **Portability:** Very small and lightweight, excellent for travel.\n",
       "    *   **Speed:** Fast for small quantities (one mug).\n",
       "    *   **Efficiency:** Direct contact with water, so highly efficient.\n",
       "*   **Cons:**\n",
       "    *   **Safety Risk:** Can be very dangerous if not used correctly. Never leave unattended, ensure the element is fully submerged, and avoid touching the water while it's heating. Risk of electric shock.\n",
       "    *   Only for small volumes.\n",
       "    *   No auto-shutoff.\n",
       "*   **Best For:** Hotel rooms or situations where a kettle isn't available and you need to boil a single cup quickly and cautiously.\n",
       "\n",
       "---\n",
       "\n",
       "### Tips for Boiling Water More Efficiently (Regardless of Method):\n",
       "\n",
       "1.  **Use a Lid:** Always put a lid on your pot or kettle. This traps heat, reduces evaporation, and significantly speeds up boiling.\n",
       "2.  **Only Boil What You Need:** Don't fill a 2-liter kettle if you only need a single cup of tea. Boiling excess water wastes energy.\n",
       "3.  **Start with Cold Water:** While some people believe hot tap water boils faster, it's generally not recommended for consumption as it may contain more dissolved minerals, impurities, or sediment from pipes. Cold water is usually safer.\n",
       "4.  **Descale Kettles/Pots:** Limescale buildup in electric kettles or mineral deposits on stovetop pots can reduce efficiency. Regularly clean them with vinegar or lemon juice.\n",
       "5.  **Smaller Pot (Stovetop):** If boiling a small amount on the stovetop, use a pot with a base diameter similar to your burner to minimize heat loss.\n",
       "\n",
       "---\n",
       "\n",
       "### Conclusion:\n",
       "\n",
       "For most home users, the **electric kettle** is the undisputed champion for its combination of speed, efficiency, and convenience.\n",
       "\n",
       "For larger volumes or general cooking, a **stovetop pot** is excellent, especially on an induction hob.\n",
       "\n",
       "For outdoor or emergency situations, a **camping stove** or **campfire** is necessary.\n",
       "\n",
       "**Avoid the microwave for boiling water due to significant safety risks.**"
      ],
      "text/plain": [
       "<IPython.core.display.Markdown object>"
      ]
     },
     "metadata": {},
     "output_type": "display_data"
    }
   ],
   "source": [
    "prompt = \"What's the best method of boiling water?\"\n",
    "\n",
    "response = client.models.generate_content(model=MODEL_ID, contents=prompt)\n",
    "display(Markdown(response.text))"
   ]
  },
  {
   "cell_type": "code",
   "execution_count": 13,
   "metadata": {
    "id": "KwUzhud4aA89",
    "tags": []
   },
   "outputs": [
    {
     "data": {
      "text/markdown": [
       "The sky is blue primarily due to a phenomenon called **Rayleigh scattering**. Here's a breakdown of how it works:\n",
       "\n",
       "1.  **Sunlight is White Light:**\n",
       "    *   Sunlight, which appears white to us, is actually made up of all the colors of the rainbow: red, orange, yellow, green, blue, indigo, and violet (ROYGBIV).\n",
       "    *   Each of these colors has a different wavelength. Red light has the longest wavelength, and violet/blue light have the shortest wavelengths.\n",
       "\n",
       "2.  **Earth's Atmosphere:**\n",
       "    *   Our Earth is surrounded by an atmosphere – a mixture of gases, primarily nitrogen (about 78%) and oxygen (about 21%), along with other trace gases and tiny particles.\n",
       "\n",
       "3.  **The Interaction: Scattering:**\n",
       "    *   When sunlight enters the Earth's atmosphere, it interacts with these gas molecules and tiny particles. This interaction is called **scattering**.\n",
       "\n",
       "4.  **Rayleigh Scattering:**\n",
       "    *   The molecules of nitrogen and oxygen in our atmosphere are much smaller than the wavelengths of visible light. This size difference is critical for **Rayleigh scattering**.\n",
       "    *   Rayleigh scattering states that **shorter wavelengths of light (like blue and violet) are scattered much more effectively than longer wavelengths (like red and yellow).**\n",
       "    *   Think of it this way: blue light is scattered about 10 times more efficiently than red light.\n",
       "\n",
       "5.  **Why Blue? (and not just violet):**\n",
       "    *   Because blue light has a shorter wavelength, it gets scattered in all directions by the tiny atmospheric particles far more than red, yellow, or green light.\n",
       "    *   This scattered blue light reaches our eyes from all directions in the sky, making it appear blue.\n",
       "    *   While violet light has an even shorter wavelength and is scattered *most* efficiently, there are two main reasons we see blue more strongly:\n",
       "        *   **Sun's Spectrum:** The sun emits more blue light than violet light.\n",
       "        *   **Human Eye Sensitivity:** Our eyes are more sensitive to blue light than to violet light.\n",
       "\n",
       "**In summary:** The sky is blue because sunlight is scattered by tiny molecules in our atmosphere, and blue light (being a shorter wavelength) is scattered much more efficiently than other colors, spreading it across the sky for us to see.\n",
       "\n",
       "**Related phenomena:**\n",
       "\n",
       "*   **Sunsets and Sunrises:** At sunrise and sunset, the sun's light has to travel through *much more* of the atmosphere to reach our eyes. Most of the blue light has been scattered away, leaving primarily the longer-wavelength red, orange, and yellow light to reach us directly, creating those beautiful warm colors.\n",
       "*   **White Clouds:** Clouds appear white or gray because they are made of much larger water droplets or ice crystals. These larger particles scatter *all* wavelengths of visible light more or less equally (this is called **Mie scattering**), so the light that reaches our eyes retains its original white color.\n",
       "*   **Black Sky in Space:** In space, there's no atmosphere, so there's nothing to scatter the sunlight. That's why astronauts see a black sky, even when the sun is shining brightly."
      ],
      "text/plain": [
       "<IPython.core.display.Markdown object>"
      ]
     },
     "metadata": {},
     "output_type": "display_data"
    }
   ],
   "source": [
    "prompt = \"Why is the sky blue?\"\n",
    "\n",
    "response = client.models.generate_content(model=MODEL_ID, contents=prompt)\n",
    "display(Markdown(response.text))"
   ]
  },
  {
   "cell_type": "markdown",
   "metadata": {
    "id": "PJIL2RTQaGcT"
   },
   "source": [
    "### Watch out for hallucinations"
   ]
  },
  {
   "cell_type": "markdown",
   "metadata": {
    "id": "8Y8kYxrSaHE9"
   },
   "source": [
    "Although LLMs have been trained on a large amount of data, they can generate text containing statements not grounded in truth or reality; these responses from the LLM are often referred to as \"hallucinations\" due to their limited memorization capabilities. Note that simply prompting the LLM to provide a citation isn't a fix to this problem, as there are instances of LLMs providing false or inaccurate citations. Dealing with hallucinations is a fundamental challenge of LLMs and an ongoing research area, so it is important to be cognizant that LLMs may seem to give you confident, correct-sounding statements that are in fact incorrect.\n",
    "\n",
    "Note that if you intend to use LLMs for the creative use cases, hallucinating could actually be quite useful."
   ]
  },
  {
   "cell_type": "markdown",
   "metadata": {
    "id": "8NY5nAGeaJYS"
   },
   "source": [
    "Try the prompt like the one below repeatedly. We set the temperature to `1.0` so that it takes more risks in its choices. It's possible that it may provide an inaccurate, but confident answer."
   ]
  },
  {
   "cell_type": "code",
   "execution_count": 14,
   "metadata": {
    "id": "QALPjEILaM62",
    "tags": []
   },
   "outputs": [
    {
     "data": {
      "text/markdown": [
       "Today is **Wednesday**."
      ],
      "text/plain": [
       "<IPython.core.display.Markdown object>"
      ]
     },
     "metadata": {},
     "output_type": "display_data"
    }
   ],
   "source": [
    "generation_config = GenerateContentConfig(temperature=1.0)\n",
    "\n",
    "prompt = \"What day is it today?\"\n",
    "\n",
    "response = client.models.generate_content(model=MODEL_ID, contents=prompt)\n",
    "display(Markdown(response.text))"
   ]
  },
  {
   "cell_type": "markdown",
   "metadata": {
    "id": "BRkwzbgRbhKt"
   },
   "source": [
    "Since LLMs do not have access to real-time information without further integrations, you may have noticed it hallucinates what day it is today in some of the outputs."
   ]
  },
  {
   "cell_type": "markdown",
   "metadata": {
    "id": "3c811e310d02"
   },
   "source": [
    "### Using system instructions to guardrail the model from irrelevant responses\n",
    "\n",
    "How can we attempt to reduce the chances of irrelevant responses and hallucinations?\n",
    "\n",
    "One way is to provide the LLM with [system instructions](https://cloud.google.com/vertex-ai/generative-ai/docs/learn/prompts/system-instruction-introduction).\n",
    "\n",
    "Let's see how system instructions works and how you can use them to reduce hallucinations or irrelevant questions for a travel chatbot.\n",
    "\n",
    "Suppose we ask a simple question about one of Italy's most famous tourist spots."
   ]
  },
  {
   "cell_type": "code",
   "execution_count": 15,
   "metadata": {
    "id": "rB6zJU76biFK",
    "tags": []
   },
   "outputs": [
    {
     "data": {
      "text/markdown": [
       "That's a great question for a travel website!\n",
       "\n",
       "For sightseeing in Milan, the **Duomo di Milano (Milan Cathedral)** is often considered the absolute best place to visit.\n",
       "\n",
       "Here's why:\n",
       "*   **Architectural Marvel:** It's one of the largest and most magnificent Gothic cathedrals in the world, with incredible intricate details, spires, and statues.\n",
       "*   **Panoramic Views:** You can take an elevator or stairs to the Duomo Terraces for breathtaking panoramic views of Milan and, on a clear day, even the Alps.\n",
       "*   **Historical Significance:** It has centuries of history embedded within its walls.\n",
       "*   **Central Location:** It's located in the very heart of Milan, making it easy to access and a great starting point for exploring other nearby attractions like the Galleria Vittorio Emanuele II and the La Scala opera house.\n",
       "\n",
       "It's truly an unforgettable experience!"
      ],
      "text/plain": [
       "<IPython.core.display.Markdown object>"
      ]
     },
     "metadata": {},
     "output_type": "display_data"
    }
   ],
   "source": [
    "generation_config = GenerateContentConfig(temperature=1.0)\n",
    "\n",
    "chat = client.chats.create(\n",
    "    model=MODEL_ID,\n",
    "    config=GenerateContentConfig(\n",
    "        system_instruction=[\n",
    "            \"Hello! You are an AI chatbot for a travel web site.\",\n",
    "            \"Your mission is to provide helpful queries for travelers.\",\n",
    "            \"Remember that before you answer a question, you must check to see if it complies with your mission.\",\n",
    "            \"If not, you can say, Sorry I can't answer that question.\",\n",
    "        ]\n",
    "    ),\n",
    ")\n",
    "\n",
    "prompt = \"What is the best place for sightseeing in Milan, Italy?\"\n",
    "\n",
    "response = chat.send_message(prompt)\n",
    "display(Markdown(response.text))"
   ]
  },
  {
   "cell_type": "markdown",
   "metadata": {
    "id": "WZa-Qcf9cF4A"
   },
   "source": [
    "Now let us pretend to be a user asks the chatbot a question that is unrelated to travel."
   ]
  },
  {
   "cell_type": "code",
   "execution_count": 16,
   "metadata": {
    "id": "AZKBIDr2cGnu",
    "tags": []
   },
   "outputs": [
    {
     "data": {
      "text/markdown": [
       "Sorry, I can't answer that question."
      ],
      "text/plain": [
       "<IPython.core.display.Markdown object>"
      ]
     },
     "metadata": {},
     "output_type": "display_data"
    }
   ],
   "source": [
    "prompt = \"How do I make pizza dough at home?\"\n",
    "\n",
    "response = chat.send_message(prompt)\n",
    "display(Markdown(response.text))"
   ]
  },
  {
   "cell_type": "markdown",
   "metadata": {
    "id": "JiUYIhwpctCy"
   },
   "source": [
    "You can see that this way, a guardrail in the prompt prevented the chatbot from veering off course."
   ]
  },
  {
   "cell_type": "markdown",
   "metadata": {
    "id": "ZuuDhA37cvmP"
   },
   "source": [
    "### Turn generative tasks into classification tasks to reduce output variability"
   ]
  },
  {
   "cell_type": "markdown",
   "metadata": {
    "id": "kUCUrsUzczmb"
   },
   "source": [
    "#### Generative tasks lead to higher output variability"
   ]
  },
  {
   "cell_type": "markdown",
   "metadata": {
    "id": "a1xASHAkc46n"
   },
   "source": [
    "The prompt below results in an open-ended response, useful for brainstorming, but response is highly variable."
   ]
  },
  {
   "cell_type": "code",
   "execution_count": 17,
   "metadata": {
    "id": "nPfXQWIacwRf",
    "tags": []
   },
   "outputs": [
    {
     "data": {
      "text/markdown": [
       "That's fantastic! Learning to program in high school is one of the best investments you can make in your future, regardless of what career path you choose. The key to improving is to *build things* and *solve problems*.\n",
       "\n",
       "Here are a few programming activity recommendations, categorized by what kind of skills they emphasize, along with suggested tools and starting points:\n",
       "\n",
       "---\n",
       "\n",
       "### **1. Build a Simple Game (Highly Recommended for Engagement & Logic!)**\n",
       "\n",
       "*   **Why it's great:** Games are fun, visual, and immediately rewarding. They force you to think about logic, state management, user input, and often graphics.\n",
       "*   **Skills learned:** Logic, problem-solving, object-oriented programming (OOP) concepts (if using frameworks), graphics manipulation, user interaction.\n",
       "*   **Suggested Tools/Languages:**\n",
       "    *   **Python with Pygame:** Excellent for beginners. Python is easy to learn, and Pygame provides all the tools you need for 2D games.\n",
       "    *   **JavaScript with HTML5 Canvas:** Great if you're interested in web development. You can build games that run directly in a browser.\n",
       "    *   **C# with Unity:** A professional-grade game engine, but you can start with very simple 2D games. It's a bigger learning curve, but incredibly powerful.\n",
       "*   **Project Ideas:**\n",
       "    *   **Pong Clone:** The classic paddle-and-ball game. Teaches basic movement, collision detection, and scoring.\n",
       "    *   **Snake Game:** Move a snake, eat food, grow longer, avoid walls/self. Good for array/list manipulation and game state.\n",
       "    *   **Tic-Tac-Toe:** Simple logic for checking win conditions.\n",
       "    *   **Flappy Bird Clone:** Basic physics, repetitive movement, collision.\n",
       "*   **How to start:** Look up \"[Language] Pygame tutorial\" or \"[Language] HTML5 Canvas game tutorial\" on YouTube or sites like freeCodeCamp.\n",
       "\n",
       "---\n",
       "\n",
       "### **2. Create a Personal Website or Web Application**\n",
       "\n",
       "*   **Why it's great:** Extremely practical, highly visible, and teaches skills applicable to almost any modern industry. You can build a portfolio for yourself!\n",
       "*   **Skills learned:** HTML (structure), CSS (styling), JavaScript (interactivity), front-end development, sometimes backend logic and databases.\n",
       "*   **Suggested Tools/Languages:**\n",
       "    *   **HTML, CSS, JavaScript (Frontend):** The holy trinity of web development. You can build amazing interactive sites with just these three.\n",
       "    *   **Python with Flask/Django (Backend - optional for beginners):** If you want to make your website do more, like save user data or interact with a database, Python frameworks are a great choice.\n",
       "    *   **Node.js with Express (Backend - optional for beginners):** Another popular option for backend development, especially if you enjoy JavaScript.\n",
       "*   **Project Ideas:**\n",
       "    *   **Personal Portfolio Page:** Showcase your projects, skills, and contact info.\n",
       "    *   **Simple Blog:** Learn about displaying content and maybe even a basic comment system.\n",
       "    *   **Calculator App:** Good for JavaScript logic and DOM manipulation.\n",
       "    *   **To-Do List:** A classic project for learning how to add, remove, and store items (even if just in local storage).\n",
       "    *   **Weather App:** Learn to fetch data from an API (Application Programming Interface).\n",
       "*   **How to start:** freeCodeCamp, The Odin Project, or MDN Web Docs are fantastic free resources for learning web development.\n",
       "\n",
       "---\n",
       "\n",
       "### **3. Tackle Competitive Programming Problems (Algorithms & Data Structures)**\n",
       "\n",
       "*   **Why it's great:** This is like Sudoku for programmers. It hones your logical thinking, problem-solving, and understanding of fundamental computer science concepts like algorithms and data structures. It also improves your coding efficiency.\n",
       "*   **Skills learned:** Algorithms (sorting, searching), data structures (arrays, lists, trees, graphs), problem decomposition, critical thinking, mathematical reasoning.\n",
       "*   **Suggested Tools/Languages:** Any language you're comfortable with, but Python, Java, and C++ are popular choices.\n",
       "*   **Project Ideas:**\n",
       "    *   Start with \"easy\" problems on platforms.\n",
       "    *   Focus on specific topics: arrays, strings, basic recursion.\n",
       "*   **How to start:**\n",
       "    *   **HackerRank:** User-friendly interface, good tutorials for beginners.\n",
       "    *   **LeetCode:** More advanced but has a good selection of \"easy\" problems.\n",
       "    *   **Codeforces:** Excellent platform with regular contests, but can be intimidating for absolute beginners.\n",
       "    *   **Project Euler:** Math-focused programming challenges.\n",
       "\n",
       "---\n",
       "\n",
       "### **4. Automate a Task (Practical & Immediately Useful!)**\n",
       "\n",
       "*   **Why it's great:** This shows you the power of programming in the real world. You can write scripts that save you time and effort on repetitive tasks.\n",
       "*   **Skills learned:** Scripting, file system manipulation, interacting with web services, basic error handling.\n",
       "*   **Suggested Tools/Languages:**\n",
       "    *   **Python:** King of automation due to its readability and extensive libraries.\n",
       "*   **Project Ideas:**\n",
       "    *   **File Organizer:** Write a script that moves files (e.g., all `.jpg` files to a 'Pictures' folder, `.pdf` files to 'Documents') based on their type or name.\n",
       "    *   **Web Scraper:** Extract specific information from a website (e.g., movie times, product prices, news headlines). Be mindful of terms of service!\n",
       "    *   **Email Sender:** Send automated emails (e.g., birthday reminders, daily reports) using Python's `smtplib`.\n",
       "    *   **Data Entry Automation:** If you have to manually enter data into a spreadsheet, learn how to automate it.\n",
       "    *   **Rename Files:** A script to batch rename a bunch of files based on a pattern.\n",
       "*   **How to start:** A great resource is the book/course \"Automate the Boring Stuff with Python\" by Al Sweigart (available for free online).\n",
       "\n",
       "---\n",
       "\n",
       "### **5. Data Analysis & Visualization (Growing Field!)**\n",
       "\n",
       "*   **Why it's great:** Data is everywhere, and being able to extract insights and present them clearly is a valuable skill.\n",
       "*   **Skills learned:** Data manipulation, statistical thinking, data visualization, working with libraries.\n",
       "*   **Suggested Tools/Languages:**\n",
       "    *   **Python with Pandas, Matplotlib, Seaborn:** Pandas is amazing for data manipulation, and Matplotlib/Seaborn for plotting.\n",
       "*   **Project Ideas:**\n",
       "    *   **Analyze your own data:** Track your screen time, grades, or even sleep patterns and try to find correlations.\n",
       "    *   **Explore public datasets:** Sites like Kaggle offer tons of free datasets (e.g., movie ratings, sports statistics, weather data). Try to clean it, find interesting trends, and visualize them.\n",
       "    *   **Simple Survey Analyzer:** Create a small survey (using Google Forms) and then analyze the responses programmatically.\n",
       "*   **How to start:** Look for \"Python Pandas tutorial\" and \"Python Matplotlib tutorial\" on YouTube or sites like DataCamp (they often have free introductory courses).\n",
       "\n",
       "---\n",
       "\n",
       "### **General Tips for Success:**\n",
       "\n",
       "1.  **Start Small, Iterate Often:** Don't try to build the next Facebook on your first project. Break down big ideas into tiny, manageable steps.\n",
       "2.  **Google is Your Best Friend:** Seriously, every programmer uses Google constantly. Learning *how* to search for solutions is a crucial skill.\n",
       "3.  **Don't Be Afraid to Fail/Break Things:** Errors are learning opportunities. Debugging is a core part of programming.\n",
       "4.  **Use Version Control (Git/GitHub):** As soon as you start on projects, learn the basics of Git. It helps track your changes and is essential for collaboration. Plus, a GitHub profile is a great way to showcase your work.\n",
       "5.  **Find a Community:** Join online forums (like Stack Overflow, Reddit communities like r/learnprogramming), Discord servers, or local coding clubs. Sharing your work and asking questions is incredibly helpful.\n",
       "6.  **Read Other People's Code:** Once you have some basics down, look at simple open-source projects to see how others structure their code.\n",
       "7.  **Stick with One Language Initially:** Master the fundamentals of one language (Python is highly recommended for beginners) before jumping to others.\n",
       "8.  **Have Fun!** If you're not enjoying it, try a different type of project or language until you find what sparks your interest.\n",
       "\n",
       "Choose one activity that sounds most exciting to you, pick a small project, and just start coding! Good luck!"
      ],
      "text/plain": [
       "<IPython.core.display.Markdown object>"
      ]
     },
     "metadata": {},
     "output_type": "display_data"
    }
   ],
   "source": [
    "prompt = \"I'm a high school student. Recommend me a programming activity to improve my skills.\"\n",
    "\n",
    "response = client.models.generate_content(model=MODEL_ID, contents=prompt)\n",
    "display(Markdown(response.text))"
   ]
  },
  {
   "cell_type": "markdown",
   "metadata": {
    "id": "iAmm9wPYc_1o"
   },
   "source": [
    "#### Classification tasks reduces output variability"
   ]
  },
  {
   "cell_type": "markdown",
   "metadata": {
    "id": "VvRpK_0GdCpf"
   },
   "source": [
    "The prompt below results in a choice and may be useful if you want the output to be easier to control."
   ]
  },
  {
   "cell_type": "code",
   "execution_count": 18,
   "metadata": {
    "id": "kYDKh0r2dAqo",
    "tags": []
   },
   "outputs": [
    {
     "data": {
      "text/markdown": [
       "Okay, this is an excellent question! As a high school student exploring programming, your choice of language can significantly impact your learning experience and future opportunities.\n",
       "\n",
       "Let's break down each option:\n",
       "\n",
       "---\n",
       "\n",
       "### a) Learn Python\n",
       "\n",
       "**Strongly Recommended**\n",
       "\n",
       "*   **Why it's great for high school students:**\n",
       "    *   **Beginner-Friendly:** Python has a very readable and intuitive syntax that often feels like writing English. This makes it much easier to grasp fundamental programming concepts without getting bogged down by complex grammar.\n",
       "    *   **Versatility:** Python is incredibly versatile. You can use it for:\n",
       "        *   **Web Development (Backend):** Frameworks like Django and Flask power many popular websites.\n",
       "        *   **Data Science & Machine Learning:** It's the dominant language in these fields, which are highly in demand.\n",
       "        *   **Automation & Scripting:** Automate repetitive tasks on your computer.\n",
       "        *   **Scientific Computing:** Used in various research fields.\n",
       "        *   **Game Development:** With libraries like Pygame, you can create simple games.\n",
       "        *   **GUI Applications:** Build desktop apps.\n",
       "    *   **Large Community & Resources:** Due to its popularity, there are tons of tutorials, courses, documentation, and a huge community to help you when you get stuck.\n",
       "    *   **High Demand:** Python skills are highly sought after in academia and industry across many different sectors.\n",
       "    *   **Good Foundation:** Learning Python builds a strong foundation in core programming logic that can be easily transferred to other languages later.\n",
       "\n",
       "*   **Potential downsides:**\n",
       "    *   Generally slower than compiled languages (like C++ or Fortran) for very high-performance tasks, but this is rarely an issue for most applications, especially for a beginner.\n",
       "\n",
       "---\n",
       "\n",
       "### b) Learn JavaScript\n",
       "\n",
       "**Also Strongly Recommended, especially if you're interested in web development**\n",
       "\n",
       "*   **Why it's great for high school students:**\n",
       "    *   **The Language of the Web:** JavaScript is absolutely essential for interactive web development. If you want to build websites that do more than just display static text and images, you need JavaScript.\n",
       "    *   **Immediate Visual Feedback:** You can quickly see the results of your code directly in a web browser, which can be very engaging and motivating.\n",
       "    *   **Full-Stack Potential:** While traditionally a frontend language (what you see in the browser), with Node.js, JavaScript can also be used for backend development, allowing you to build complete web applications.\n",
       "    *   **Broad Applications:** Beyond web browsers, JavaScript (via frameworks like React Native or Electron) can be used to build mobile apps and desktop applications.\n",
       "    *   **High Demand:** JavaScript developers are always in high demand.\n",
       "\n",
       "*   **Potential downsides:**\n",
       "    *   Can have some \"quirks\" and complexities (e.g., asynchronous programming, type coercion) that might be slightly less intuitive for absolute beginners than Python's simplicity.\n",
       "    *   If you're not interested in web development *at all*, its immediate applicability might be less obvious.\n",
       "\n",
       "---\n",
       "\n",
       "### c) Learn Fortran\n",
       "\n",
       "**Not Recommended for most high school students, unless you have a very specific interest.**\n",
       "\n",
       "*   **Why it might *not* be ideal for high school students:**\n",
       "    *   **Highly Specialized:** Fortran (FORmula TRANslation) is primarily used for numerical and scientific computing, especially in high-performance computing (HPC), physics simulations, engineering, and meteorology.\n",
       "    *   **Steeper Learning Curve for General Concepts:** Its syntax is older and less beginner-friendly than Python or JavaScript. It focuses heavily on performance and array manipulation, which might not be the most engaging or broadly applicable concepts for someone just starting out.\n",
       "    *   **Limited General Applicability:** You won't use Fortran for web development, app development, or general scripting. Its job market is much smaller and highly niche compared to Python or JavaScript.\n",
       "    *   **Fewer Modern Resources:** While there are resources, they are generally less abundant and less geared towards absolute beginners compared to the other two languages.\n",
       "\n",
       "*   **When it *might* be a good idea (rare for HS):**\n",
       "    *   If you are *already* deeply passionate about a field like computational physics, aerospace engineering, or climate modeling, and you've been advised by a mentor in that field that Fortran is critical for your specific niche. This is very uncommon for a high school student exploring programming.\n",
       "\n",
       "---\n",
       "\n",
       "### My Suggestion:\n",
       "\n",
       "**Start with Python, then consider JavaScript.**\n",
       "\n",
       "1.  **Start with Python:** It's the most beginner-friendly, versatile, and provides a solid foundation for almost any area of computer science or software development you might pursue. You can build cool things quickly, which is great for staying motivated.\n",
       "\n",
       "2.  **Once comfortable with Python, consider JavaScript:** If you find yourself enjoying programming and want to build interactive websites or web applications, learning JavaScript (alongside HTML and CSS) would be an excellent next step. The two languages complement each other very well. Python for the \"brains\" (backend, data) and JavaScript for the \"face\" (frontend interaction).\n",
       "\n",
       "**In short: Python first, then JavaScript if web development interests you. Fortran is likely not the right choice for an exploratory high school student.**\n",
       "\n",
       "Good luck on your programming journey!"
      ],
      "text/plain": [
       "<IPython.core.display.Markdown object>"
      ]
     },
     "metadata": {},
     "output_type": "display_data"
    }
   ],
   "source": [
    "prompt = \"\"\"I'm a high school student. Which of these activities do you suggest and why:\n",
    "a) learn Python\n",
    "b) learn JavaScript\n",
    "c) learn Fortran\n",
    "\"\"\"\n",
    "\n",
    "response = client.models.generate_content(model=MODEL_ID, contents=prompt)\n",
    "display(Markdown(response.text))"
   ]
  },
  {
   "cell_type": "markdown",
   "metadata": {
    "id": "iTd60b1GdIsx"
   },
   "source": [
    "### Improve response quality by including examples"
   ]
  },
  {
   "cell_type": "markdown",
   "metadata": {
    "id": "yJi44NejdJYE"
   },
   "source": [
    "Another way to improve response quality is to add examples in your prompt. The LLM learns in-context from the examples on how to respond. Typically, one to five examples (shots) are enough to improve the quality of responses. Including too many examples can cause the model to over-fit the data and reduce the quality of responses.\n",
    "\n",
    "Similar to classical model training, the quality and distribution of the examples is very important. Pick examples that are representative of the scenarios that you need the model to learn, and keep the distribution of the examples (e.g. number of examples per class in the case of classification) aligned with your actual distribution."
   ]
  },
  {
   "cell_type": "markdown",
   "metadata": {
    "id": "sMbLginWdOKs"
   },
   "source": [
    "#### Zero-shot prompt"
   ]
  },
  {
   "cell_type": "markdown",
   "metadata": {
    "id": "Crh2Loi2dQ0v"
   },
   "source": [
    "Below is an example of zero-shot prompting, where you don't provide any examples to the LLM within the prompt itself."
   ]
  },
  {
   "cell_type": "code",
   "execution_count": 19,
   "metadata": {
    "id": "-7myRc-SdTQ4",
    "tags": []
   },
   "outputs": [
    {
     "data": {
      "text/markdown": [
       "Positive"
      ],
      "text/plain": [
       "<IPython.core.display.Markdown object>"
      ]
     },
     "metadata": {},
     "output_type": "display_data"
    }
   ],
   "source": [
    "prompt = \"\"\"Decide whether a Tweet's sentiment is positive, neutral, or negative.\n",
    "\n",
    "Tweet: I loved the new YouTube video you made!\n",
    "Sentiment:\n",
    "\"\"\"\n",
    "\n",
    "response = client.models.generate_content(model=MODEL_ID, contents=prompt)\n",
    "display(Markdown(response.text))"
   ]
  },
  {
   "cell_type": "markdown",
   "metadata": {
    "id": "ucRtPn9SdL64"
   },
   "source": [
    "#### One-shot prompt"
   ]
  },
  {
   "cell_type": "markdown",
   "metadata": {
    "id": "rs0gQH2vdYBi"
   },
   "source": [
    "Below is an example of one-shot prompting, where you provide one example to the LLM within the prompt to give some guidance on what type of response you want."
   ]
  },
  {
   "cell_type": "code",
   "execution_count": 20,
   "metadata": {
    "id": "iEq-KxGYdaT5",
    "tags": []
   },
   "outputs": [
    {
     "data": {
      "text/markdown": [
       "negative"
      ],
      "text/plain": [
       "<IPython.core.display.Markdown object>"
      ]
     },
     "metadata": {},
     "output_type": "display_data"
    }
   ],
   "source": [
    "prompt = \"\"\"Decide whether a Tweet's sentiment is positive, neutral, or negative.\n",
    "\n",
    "Tweet: I loved the new YouTube video you made!\n",
    "Sentiment: positive\n",
    "\n",
    "Tweet: That was awful. Super boring 😠\n",
    "Sentiment:\n",
    "\"\"\"\n",
    "\n",
    "response = client.models.generate_content(model=MODEL_ID, contents=prompt)\n",
    "display(Markdown(response.text))"
   ]
  },
  {
   "cell_type": "markdown",
   "metadata": {
    "id": "JnKLjJzmdfL_"
   },
   "source": [
    "#### Few-shot prompt"
   ]
  },
  {
   "cell_type": "markdown",
   "metadata": {
    "id": "6Zv-9F5OdgI_"
   },
   "source": [
    "Below is an example of few-shot prompting, where you provide a few examples to the LLM within the prompt to give some guidance on what type of response you want."
   ]
  },
  {
   "cell_type": "code",
   "execution_count": 21,
   "metadata": {
    "id": "u37P9tG4dk9S",
    "tags": []
   },
   "outputs": [
    {
     "data": {
      "text/markdown": [
       "positive"
      ],
      "text/plain": [
       "<IPython.core.display.Markdown object>"
      ]
     },
     "metadata": {},
     "output_type": "display_data"
    }
   ],
   "source": [
    "prompt = \"\"\"Decide whether a Tweet's sentiment is positive, neutral, or negative.\n",
    "\n",
    "Tweet: I loved the new YouTube video you made!\n",
    "Sentiment: positive\n",
    "\n",
    "Tweet: That was awful. Super boring 😠\n",
    "Sentiment: negative\n",
    "\n",
    "Tweet: Something surprised me about this video - it was actually original. It was not the same old recycled stuff that I always see. Watch it - you will not regret it.\n",
    "Sentiment:\n",
    "\"\"\"\n",
    "\n",
    "response = client.models.generate_content(model=MODEL_ID, contents=prompt)\n",
    "display(Markdown(response.text))"
   ]
  },
  {
   "cell_type": "markdown",
   "metadata": {
    "id": "wDMD3xb2dvX6"
   },
   "source": [
    "#### Choosing between zero-shot, one-shot, few-shot prompting methods"
   ]
  },
  {
   "cell_type": "markdown",
   "metadata": {
    "id": "s92W0YpNdxJp"
   },
   "source": [
    "Which prompt technique to use will solely depends on your goal. The zero-shot prompts are more open-ended and can give you creative answers, while one-shot and few-shot prompts teach the model how to behave so you can get more predictable answers that are consistent with the examples provided."
   ]
  }
 ],
 "metadata": {
  "colab": {
   "name": "intro_prompt_design.ipynb",
   "toc_visible": true
  },
  "environment": {
   "kernel": "conda-base-py",
   "name": "workbench-notebooks.m133",
   "type": "gcloud",
   "uri": "us-docker.pkg.dev/deeplearning-platform-release/gcr.io/workbench-notebooks:m133"
  },
  "kernelspec": {
   "display_name": "Python 3 (ipykernel) (Local)",
   "language": "python",
   "name": "conda-base-py"
  },
  "language_info": {
   "codemirror_mode": {
    "name": "ipython",
    "version": 3
   },
   "file_extension": ".py",
   "mimetype": "text/x-python",
   "name": "python",
   "nbconvert_exporter": "python",
   "pygments_lexer": "ipython3",
   "version": "3.10.18"
  }
 },
 "nbformat": 4,
 "nbformat_minor": 4
}
